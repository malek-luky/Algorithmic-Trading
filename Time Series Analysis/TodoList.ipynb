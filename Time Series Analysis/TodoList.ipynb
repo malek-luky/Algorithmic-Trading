{
 "cells": [
  {
   "cell_type": "markdown",
   "id": "302e727a-2abf-41a6-b3c4-e5e8be8702db",
   "metadata": {},
   "source": [
    "# TODO\n",
    "* The most exciting things that could improve the model\n",
    "* Unfortunatelly, I spent 10 days working on it, and the exam period is slowly coming :D"
   ]
  },
  {
   "cell_type": "markdown",
   "id": "1ba7e473-e640-4c20-8d55-250aba1014e1",
   "metadata": {},
   "source": [
    "### HYPERARAMETERS OPTUNA\n",
    "* WIP\n",
    "* Documentation is perfect\n",
    "* https://optuna.org/#code_examples"
   ]
  },
  {
   "cell_type": "code",
   "execution_count": null,
   "id": "e4627e6a-c37d-43e8-81c7-809d59748278",
   "metadata": {},
   "outputs": [],
   "source": [
    "def objective(space):\n",
    "    \"\"\"\n",
    "    study minimizes this function \n",
    "    return: evaluation metric which we minimize\n",
    "    \"\"\"\n",
    "    param={\n",
    "        'silent': 1,\n",
    "        'objective': 'binary:logistic',\n",
    "        'booster': trial.suggest_categorical('booster', ['gbtree', 'gblinear', 'dart']),\n",
    "        'lambda': trial.suggest_float('lambda', 1e-8, 1.0, log=True),\n",
    "        'alpha': trial.suggest_float('alpha', 1e-8, 1.0, log=True)}\n",
    "        \n",
    "        #'max_depth': hp.quniform(\"max_depth\", 3, 18, 1),\n",
    "        #'gamma': hp.uniform ('gamma', 1,9),\n",
    "        #'reg_alpha' : hp.quniform('reg_alpha', 40,180,1),\n",
    "        #'reg_lambda' : hp.uniform('reg_lambda', 0,1),\n",
    "        #'colsample_bytree' : hp.uniform('colsample_bytree', 0.5,1),\n",
    "        #'min_child_weight' : hp.quniform('min_child_weight', 0, 10, 1),\n",
    "        #'learning_rate'    : hp.uniform('learning_rate', 0.0005, 0.3),\n",
    "        #'early_stopping_rounds': hp.uniform ('early_stopping_rounds', 10,600)}\n",
    "    reg=xgb.XGBRegressor(\n",
    "                    max_depth = int(space['max_depth']),\n",
    "                    gamma = space['gamma'],\n",
    "                    reg_alpha = space['reg_alpha'],\n",
    "                    reg_lambda = space['reg_lambda'],\n",
    "                    colsample_bytree=space['colsample_bytree'],\n",
    "                    min_child_weight = space['min_child_weight'],\n",
    "                    learning_rate=space['learning_rate'],\n",
    "                    early_stopping_rounds=space['early_stopping_rounds'])   \n",
    "    reg.fit(X_train, y_train,\n",
    "            eval_set=[(X_train,y_train),(X_test,y_test)],\n",
    "            verbose=False)\n",
    "    pred = reg.predict(X_test)\n",
    "    accuracy = mean_absolute_error(test['Target_Volume'],pred)\n",
    "    print (\"SCORE: \"+ str(accuracy))\n",
    "    return {'loss': accuracy, 'status': STATUS_OK }"
   ]
  },
  {
   "cell_type": "code",
   "execution_count": null,
   "id": "98fb6aa8-27ed-40af-9898-2be6bbf3e8d0",
   "metadata": {},
   "outputs": [],
   "source": [
    "\n",
    "\n",
    "trials = Trials()\n",
    "\n",
    "best_hyperparams = fmin(fn=objective,space=space,algo=tpe.suggest,max_evals=50,trials=trials)\n",
    "\n",
    "print(\"The best hyperparameters are : \",\"\\n\")\n",
    "print(best_hyperparams)"
   ]
  },
  {
   "cell_type": "markdown",
   "id": "579cc920-203e-4eef-9a8e-90b6dcc952cd",
   "metadata": {
    "papermill": {
     "duration": 0.015442,
     "end_time": "2022-07-05T14:50:18.302044",
     "exception": false,
     "start_time": "2022-07-05T14:50:18.286602",
     "status": "completed"
    },
    "tags": []
   },
   "source": [
    "### K-FOLD CROSS VALDIATION\n",
    "* Use the best model and run it using k-fold cross-validation\n",
    "* TODO: Check which results are better"
   ]
  },
  {
   "cell_type": "code",
   "execution_count": null,
   "id": "015257db-1c10-4e12-a223-90caed812718",
   "metadata": {
    "papermill": {
     "duration": 6.678505,
     "end_time": "2022-08-01T21:29:45.840063",
     "exception": false,
     "start_time": "2022-08-01T21:29:39.161558",
     "status": "completed"
    },
    "tags": []
   },
   "outputs": [],
   "source": [
    "from sklearn.model_selection import TimeSeriesSplit #k-fold crossvalidation\n",
    "\n",
    "tss = TimeSeriesSplit(n_splits=10, test_size=252) #half year\n",
    "fig, axs = plt.subplots(10, 1, figsize=(15, 15), sharex=True,constrained_layout = True)\n",
    "\n",
    "fold = 0\n",
    "for train_idx, val_idx in tss.split(df):\n",
    "    train = df.iloc[train_idx]\n",
    "    test = df.iloc[val_idx]\n",
    "    train[TARGET].plot(ax=axs[fold],\n",
    "                          label='Training Set',\n",
    "                          title=f'Data Train/Test Split Fold {fold}')\n",
    "    test[TARGET].plot(ax=axs[fold],\n",
    "                         label='Test Set')\n",
    "    axs[fold].axvline(test.index.min(), color='black', ls='--')\n",
    "    fold += 1"
   ]
  },
  {
   "cell_type": "code",
   "execution_count": null,
   "id": "3724ab19-50cc-4ca5-9bf9-8a44b0bf44ed",
   "metadata": {
    "papermill": {
     "duration": 142.316853,
     "end_time": "2022-08-01T21:32:14.140001",
     "exception": false,
     "start_time": "2022-08-01T21:29:51.823148",
     "status": "completed"
    },
    "tags": []
   },
   "outputs": [],
   "source": [
    "df = df.sort_index()\n",
    "\n",
    "\n",
    "fold = 0\n",
    "preds = []\n",
    "scores = []\n",
    "for train_idx, val_idx in tss.split(df):\n",
    "    train = df.iloc[train_idx]\n",
    "    test = df.iloc[val_idx]\n",
    "\n",
    "    train = add_dates(train)\n",
    "    test = add_dates(test)\n",
    "\n",
    "    FEATURES = ['Close', 'ATR', 'RSI', 'Dayofweek', 'Dayofmonth', 'Month']\n",
    "    TARGET = 'Volume'\n",
    "\n",
    "    X_train = train[FEATURES]\n",
    "    y_train = train[TARGET]\n",
    "\n",
    "    X_test = test[FEATURES]\n",
    "    y_test = test[TARGET]\n",
    "\n",
    "    reg = xgb.XGBRegressor(base_score=0.5, booster='gbtree',    \n",
    "                           n_estimators=1000,\n",
    "                           early_stopping_rounds=50,\n",
    "                           objective='reg:linear',\n",
    "                           max_depth=3,\n",
    "                           learning_rate=0.01)\n",
    "    reg.fit(X_train, y_train,\n",
    "            eval_set=[(X_train, y_train), (X_test, y_test)],\n",
    "            verbose=100)\n",
    "\n",
    "    y_pred = reg.predict(X_test)\n",
    "    preds.append(y_pred)\n",
    "    score = np.sqrt(mean_squared_error(y_test, y_pred))\n",
    "    scores.append(score)"
   ]
  },
  {
   "cell_type": "code",
   "execution_count": null,
   "id": "44de73a6-a6a8-4d22-ab8f-10fc3527616f",
   "metadata": {
    "papermill": {
     "duration": 0.027974,
     "end_time": "2022-08-01T21:32:14.188198",
     "exception": false,
     "start_time": "2022-08-01T21:32:14.160224",
     "status": "completed"
    },
    "tags": []
   },
   "outputs": [],
   "source": [
    "#print(f'Score across folds {np.mean(scores):0.4f}')\n",
    "#print(f'Fold scores:{scores}')"
   ]
  },
  {
   "cell_type": "markdown",
   "id": "96ed7026-5db1-4437-b8fb-7f96f00c7d8d",
   "metadata": {
    "tags": []
   },
   "source": [
    "# PERSONAL WORKSPACE"
   ]
  },
  {
   "cell_type": "markdown",
   "id": "221272fa-25c4-459e-a597-38abbd7bfa6a",
   "metadata": {
    "tags": []
   },
   "source": [
    "## NORMALIZE\n",
    "* Faster Convergence\n",
    "* Correct axis ratio if we want for example compute distances between values\n",
    "* FastRun argument: Takes around 40s to generate, generate only if necessary\n",
    "* IMPORTANT: Normalize it on training data, otherwise we use future data\n",
    "* XGBoost does not need normalizing"
   ]
  },
  {
   "cell_type": "code",
   "execution_count": null,
   "id": "fa9d5e43-8cd7-4e6d-9478-d64e44145f36",
   "metadata": {},
   "outputs": [],
   "source": [
    "from sklearn.preprocessing import MinMaxScaler\n",
    "\n",
    "if Normalization:\n",
    "    sc = MinMaxScaler()\n",
    "    sc_train = sc.fit_transform(train)\n",
    "    sc_test = sc.transform(test)\n",
    "    train=pd.DataFrame(sc_train,columns=train.columns,index=train.index)\n",
    "    test=pd.DataFrame(sc_test,columns=test.columns,index=test.index)\n",
    "    test.tail()"
   ]
  },
  {
   "cell_type": "markdown",
   "id": "4c4ede9a-3d83-4097-b366-fdc3e3af9c17",
   "metadata": {
    "tags": []
   },
   "source": [
    "### NORMALIZED DISTRIBUTION\n",
    "* Check if the data are evenly distributed after normalization\n",
    "* FastRun argument: Takes around 40s to generate, generate only if necessary"
   ]
  },
  {
   "cell_type": "code",
   "execution_count": null,
   "id": "bc9de801-02ec-4ed3-968a-836fac854023",
   "metadata": {},
   "outputs": [],
   "source": [
    "if Normalization:\n",
    "    cols = df.columns.tolist()\n",
    "    fig, axs = plt.subplots(len(cols), 1,figsize=(15, len(cols)*3)) #TODO: zobrazit vsechno rozdeleni se spolecnou x osou, at zjistime, zda neco neni skew\n",
    "    plt.suptitle('Normalised Distribution')\n",
    "    for i in range(len(cols)):\n",
    "        df[cols[i]].plot(kind='hist',ax=axs[i],title=cols[i])\n",
    "    plt.savefig('Distribution Normalised.pdf')"
   ]
  },
  {
   "cell_type": "markdown",
   "id": "705c9994-c7df-4fa2-ba3a-2c38ea44445f",
   "metadata": {
    "papermill": {
     "duration": 0.019116,
     "end_time": "2022-08-01T21:32:49.040109",
     "exception": false,
     "start_time": "2022-08-01T21:32:49.020993",
     "status": "completed"
    },
    "tags": []
   },
   "source": [
    "### Bonus: Saving Model For later"
   ]
  },
  {
   "cell_type": "code",
   "execution_count": null,
   "id": "750b9a03-9ce8-4bce-ac22-a3a56f8a8178",
   "metadata": {
    "papermill": {
     "duration": 0.053651,
     "end_time": "2022-08-01T21:32:49.113432",
     "exception": false,
     "start_time": "2022-08-01T21:32:49.059781",
     "status": "completed"
    },
    "tags": []
   },
   "outputs": [],
   "source": [
    "# Save model\n",
    "reg.save_model('model.json')"
   ]
  },
  {
   "cell_type": "code",
   "execution_count": null,
   "id": "e876c2de-07ee-421e-9eec-85a24306e962",
   "metadata": {
    "papermill": {
     "duration": 0.568913,
     "end_time": "2022-08-01T21:32:50.526941",
     "exception": false,
     "start_time": "2022-08-01T21:32:49.958028",
     "status": "completed"
    },
    "tags": []
   },
   "outputs": [],
   "source": [
    "reg_new = xgb.XGBRegressor()\n",
    "reg_new.load_model('model.json')\n",
    "future_w_features['pred'] = reg_new.predict(future_w_features[FEATURES])\n",
    "future_w_features['pred'].plot(figsize=(10, 5),\n",
    "                               ms=1, lw=1,\n",
    "                               title='Future Predictions')"
   ]
  },
  {
   "cell_type": "markdown",
   "id": "8a846c7e-6825-4ae1-8349-38302d0d4b76",
   "metadata": {},
   "source": [
    "## PROPHET\n",
    "- Prophet model expects the dataset to be named a specific way. We will rename our dataframe columns before feeding it into the model.\n",
    "    - Datetime column named: `ds`\n",
    "    - target : `y`"
   ]
  },
  {
   "cell_type": "code",
   "execution_count": null,
   "id": "40473b32-0b30-4eda-ab3e-4c3a4554d86d",
   "metadata": {},
   "outputs": [],
   "source": [
    "# Format data for prophet model using ds and y\n",
    "prophet_train = pjme_train.reset_index() \\\n",
    "    .rename(columns={'Datetime':'ds',\n",
    "                     'PJME_MW':'y'})"
   ]
  },
  {
   "cell_type": "code",
   "execution_count": null,
   "id": "152429bc-0bc8-422a-bdb3-b5eb22082f69",
   "metadata": {},
   "outputs": [],
   "source": [
    "%%time\n",
    "model = Prophet()\n",
    "model.fit(pjme_train_prophet)"
   ]
  },
  {
   "cell_type": "code",
   "execution_count": null,
   "id": "05091267-22d8-4ebc-947c-0d0153538b96",
   "metadata": {},
   "outputs": [],
   "source": [
    "# Predict on test set with model\n",
    "pjme_test_prophet = pjme_test.reset_index() \\\n",
    "    .rename(columns={'Datetime':'ds',\n",
    "                     'PJME_MW':'y'})\n",
    "\n",
    "pjme_test_fcst = model.predict(pjme_test_prophet)"
   ]
  },
  {
   "cell_type": "code",
   "execution_count": null,
   "id": "8b0419e1-e25e-46e4-9fa3-9e4f61ac7f42",
   "metadata": {},
   "outputs": [],
   "source": [
    "pjme_test_fcst.head()"
   ]
  },
  {
   "cell_type": "code",
   "execution_count": null,
   "id": "93da9f51-9e6a-4a12-b007-99d6816bb437",
   "metadata": {},
   "outputs": [],
   "source": [
    "fig, ax = plt.subplots(figsize=(10, 5))\n",
    "fig = model.plot(pjme_test_fcst, ax=ax)\n",
    "ax.set_title('Prophet Forecast')"
   ]
  },
  {
   "cell_type": "code",
   "execution_count": null,
   "id": "2e8540a3-8cbd-47fd-b990-845f4a46cd6f",
   "metadata": {},
   "outputs": [],
   "source": [
    "fig = model.plot_components(pjme_test_fcst)\n",
    " "
   ]
  },
  {
   "cell_type": "markdown",
   "id": "0ea13099-3134-4f01-af6a-52ecc9ec1d5b",
   "metadata": {},
   "source": [
    "### Compare Forecast to Actuals"
   ]
  },
  {
   "cell_type": "code",
   "execution_count": null,
   "id": "6622d915-c54c-41d7-a2ce-62f4bcdd5970",
   "metadata": {},
   "outputs": [],
   "source": [
    "# Plot the forecast with the actuals\n",
    "f, ax = plt.subplots(figsize=(15, 5))\n",
    "ax.scatter(pjme_test.index, pjme_test['PJME_MW'], color='r')\n",
    "fig = model.plot(pjme_test_fcst, ax=ax)"
   ]
  },
  {
   "cell_type": "code",
   "execution_count": null,
   "id": "bbd244d9-bff1-4b62-9876-1f62898c284c",
   "metadata": {},
   "outputs": [],
   "source": [
    "fig, ax = plt.subplots(figsize=(10, 5))\n",
    "ax.scatter(pjme_test.index, pjme_test['PJME_MW'], color='r')\n",
    "fig = model.plot(pjme_test_fcst, ax=ax)\n",
    "ax.set_xbound(lower='01-01-2015',\n",
    "              upper='02-01-2015')\n",
    "ax.set_ylim(0, 60000)\n",
    "plot = plt.suptitle('January 2015 Forecast vs Actuals')"
   ]
  },
  {
   "cell_type": "code",
   "execution_count": null,
   "id": "d1666764-9e98-4314-b5e4-e7778b37639b",
   "metadata": {},
   "outputs": [],
   "source": [
    "# Plot the forecast with the actuals\n",
    "f, ax = plt.subplots(figsize=(15, 5))\n",
    "ax.scatter(pjme_test.index, pjme_test['PJME_MW'], color='r')\n",
    "fig = model.plot(pjme_test_fcst, ax=ax)\n",
    "ax.set_xbound(lower='01-01-2015', upper='01-08-2015')\n",
    "ax.set_ylim(0, 60000)\n",
    "ax.set_title('First Week of January Forecast vs Actuals')\n",
    " "
   ]
  },
  {
   "cell_type": "markdown",
   "id": "9a14b34b-27e2-4b0c-ac73-b663e8bf2168",
   "metadata": {},
   "source": [
    "### Evaluate the model with Error Metrics"
   ]
  },
  {
   "cell_type": "code",
   "execution_count": null,
   "id": "caec45ea-5a23-45bb-b145-ca039b71ad1d",
   "metadata": {},
   "outputs": [],
   "source": [
    "np.sqrt(mean_squared_error(y_true=pjme_test['PJME_MW'],\n",
    "                   y_pred=pjme_test_fcst['yhat']))"
   ]
  },
  {
   "cell_type": "code",
   "execution_count": null,
   "id": "22e6e1c6-8bc8-4b2d-a616-e6342a4d26a6",
   "metadata": {},
   "outputs": [],
   "source": [
    "mean_absolute_error(y_true=pjme_test['PJME_MW'],\n",
    "                   y_pred=pjme_test_fcst['yhat'])"
   ]
  },
  {
   "cell_type": "code",
   "execution_count": null,
   "id": "53bd9696-db05-4c8c-9fa3-4f9393fea2aa",
   "metadata": {},
   "outputs": [],
   "source": [
    "mean_absolute_percentage_error(y_true=pjme_test['PJME_MW'],\n",
    "                   y_pred=pjme_test_fcst['yhat'])"
   ]
  },
  {
   "cell_type": "markdown",
   "id": "9a430611-88a8-4d4f-9f8d-8032378df607",
   "metadata": {},
   "source": [
    "### Adding Holidays\n",
    "\n",
    "Next we will see if adding holiday indicators will help the accuracy of the model. Prophet comes with a Holiday Effects parameter that can be provided to the model prior to training.\n",
    "\n",
    "We will use the built in pandas USFederalHolidayCalendar to pull the list of holidays"
   ]
  },
  {
   "cell_type": "code",
   "execution_count": null,
   "id": "bc3523a0-5c61-444a-ae11-3d290fb828ca",
   "metadata": {},
   "outputs": [],
   "source": [
    "from pandas.tseries.holiday import USFederalHolidayCalendar as calendar\n",
    "\n",
    "cal = calendar()\n",
    "\n",
    "\n",
    "holidays = cal.holidays(start=pjme.index.min(),\n",
    "                        end=pjme.index.max(),\n",
    "                        return_name=True)\n",
    "holiday_df = pd.DataFrame(data=holidays,\n",
    "                          columns=['holiday'])\n",
    "holiday_df = holiday_df.reset_index().rename(columns={'index':'ds'})"
   ]
  },
  {
   "cell_type": "code",
   "execution_count": null,
   "id": "80c7f0ff-6087-424e-b966-5b7c6c410bdd",
   "metadata": {},
   "outputs": [],
   "source": [
    "%%time\n",
    "model_with_holidays = Prophet(holidays=holiday_df)\n",
    "model_with_holidays.fit(pjme_train_prophet)"
   ]
  },
  {
   "cell_type": "code",
   "execution_count": null,
   "id": "f0280691-7e62-45d7-90ab-1924c3e7dee3",
   "metadata": {},
   "outputs": [],
   "source": [
    "# Predict on training set with model\n",
    "pjme_test_fcst_with_hols = \\\n",
    "    model_with_holidays.predict(df=pjme_test_prophet)"
   ]
  },
  {
   "cell_type": "code",
   "execution_count": null,
   "id": "e5771f8c-2581-4374-8736-ecacae8ea76d",
   "metadata": {},
   "outputs": [],
   "source": [
    "fig = model_with_holidays.plot_components(\n",
    "    pjme_test_fcst_with_hols)\n",
    " "
   ]
  },
  {
   "cell_type": "code",
   "execution_count": null,
   "id": "f8153c4d-6106-413d-b5f1-222ea0854e2e",
   "metadata": {},
   "outputs": [],
   "source": [
    "fig, ax = plt.subplots(figsize=(10, 5))\n",
    "ax.scatter(pjme_test.index, pjme_test['PJME_MW'], color='r')\n",
    "fig = model.plot(pjme_test_fcst_with_hols, ax=ax)\n",
    "ax.set_xbound(lower='07-01-2015',\n",
    "              upper='07-07-2015')\n",
    "ax.set_ylim(0, 60000)\n",
    "plot = plt.suptitle('July 4 Predictions vs Actual')"
   ]
  },
  {
   "cell_type": "code",
   "execution_count": null,
   "id": "4d9ea2f1-ff2a-4218-9b8d-d5c965d2c3ce",
   "metadata": {},
   "outputs": [],
   "source": [
    "np.sqrt(mean_squared_error(y_true=pjme_test['PJME_MW'],\n",
    "                   y_pred=pjme_test_fcst_with_hols['yhat']))"
   ]
  },
  {
   "cell_type": "code",
   "execution_count": null,
   "id": "598f28b2-9e9d-4ec7-820f-e3a9c817b521",
   "metadata": {},
   "outputs": [],
   "source": [
    "mean_absolute_error(y_true=pjme_test['PJME_MW'],\n",
    "                   y_pred=pjme_test_fcst_with_hols['yhat'])"
   ]
  },
  {
   "cell_type": "code",
   "execution_count": null,
   "id": "ea7d4e99-6001-43af-b87f-c8ccef2d651b",
   "metadata": {},
   "outputs": [],
   "source": [
    "mean_absolute_percentage_error(y_true=pjme_test['PJME_MW'],\n",
    "                   y_pred=pjme_test_fcst_with_hols['yhat'])"
   ]
  },
  {
   "cell_type": "markdown",
   "id": "772c09c0-a254-4fd1-b9d1-df88f4ed97a5",
   "metadata": {},
   "source": [
    "### Predict into the Future\n",
    "\n",
    "We can use the built in `make_future_dataframe` method to build our future dataframe and make predictions."
   ]
  },
  {
   "cell_type": "code",
   "execution_count": null,
   "id": "b8a00662-697c-48b2-9ffa-6c5b9030aa6e",
   "metadata": {},
   "outputs": [],
   "source": [
    "future = model.make_future_dataframe(periods=365*24, freq='h', include_history=False)\n",
    "forecast = model_with_holidays.predict(future)"
   ]
  },
  {
   "cell_type": "code",
   "execution_count": null,
   "id": "03e234f5-f49d-46a8-bd39-f5edf1f75813",
   "metadata": {},
   "outputs": [],
   "source": [
    "forecast[['ds','yhat']].head()"
   ]
  },
  {
   "cell_type": "markdown",
   "id": "1ad7cf28-f55b-4ba2-9a10-b6209854d7e3",
   "metadata": {
    "papermill": {
     "duration": 0.01755,
     "end_time": "2022-08-01T21:32:14.223326",
     "exception": false,
     "start_time": "2022-08-01T21:32:14.205776",
     "status": "completed"
    },
    "tags": []
   },
   "source": [
    "### Predicting the Future\n",
    "- Retraining on all data\n",
    "- To Predict the future we need an emtpy dataframe for future date ranges.\n",
    "- Run those dates through our feature creation code + lag creation"
   ]
  },
  {
   "cell_type": "code",
   "execution_count": null,
   "id": "0ed975b5-245e-46f5-b039-d5b7465d14a4",
   "metadata": {
    "papermill": {
     "duration": 27.983904,
     "end_time": "2022-08-01T21:32:42.225051",
     "exception": false,
     "start_time": "2022-08-01T21:32:14.241147",
     "status": "completed"
    },
    "tags": []
   },
   "outputs": [],
   "source": [
    "# Retrain on all data\n",
    "df = add_dates(df)\n",
    "\n",
    "FEATURES = ['Close', 'ATR', 'RSI', 'Dayofweek', 'Dayofmonth', 'Month']\n",
    "TARGET = 'Volume'\n",
    "\n",
    "X_all = df[FEATURES]\n",
    "y_all = df[TARGET]\n",
    "\n",
    "reg = xgb.XGBRegressor(base_score=0.5,\n",
    "                       booster='gbtree',    \n",
    "                       n_estimators=500,\n",
    "                       objective='reg:linear',\n",
    "                       max_depth=3,\n",
    "                       learning_rate=0.01)\n",
    "reg.fit(X_all, y_all,\n",
    "        eval_set=[(X_all, y_all)],\n",
    "        verbose=100)"
   ]
  },
  {
   "cell_type": "code",
   "execution_count": null,
   "id": "e7783168-a7f8-4489-9754-80c28a79ddb3",
   "metadata": {
    "papermill": {
     "duration": 0.032536,
     "end_time": "2022-08-01T21:32:42.275601",
     "exception": false,
     "start_time": "2022-08-01T21:32:42.243065",
     "status": "completed"
    },
    "tags": []
   },
   "outputs": [],
   "source": [
    "df.index.max()"
   ]
  },
  {
   "cell_type": "code",
   "execution_count": null,
   "id": "67130c11-2bc3-47a2-ac5d-7f172ebcc972",
   "metadata": {
    "papermill": {
     "duration": 6.016331,
     "end_time": "2022-08-01T21:32:48.310108",
     "exception": false,
     "start_time": "2022-08-01T21:32:42.293777",
     "status": "completed"
    },
    "tags": []
   },
   "outputs": [],
   "source": [
    "# Create future dataframe\n",
    "future = pd.date_range('2018-08-03','2019-08-01', freq='1d')\n",
    "future_df = pd.DataFrame(index=future)\n",
    "future_df['isFuture'] = True\n",
    "df['isFuture'] = False\n",
    "df_and_future = pd.concat([df, future_df])\n",
    "df_and_future = add_dates(df_and_future)\n",
    "df_and_future = add_lags(df_and_future)"
   ]
  },
  {
   "cell_type": "code",
   "execution_count": null,
   "id": "0973e57d-b96a-4dd3-ab4c-19baae7ab018",
   "metadata": {
    "papermill": {
     "duration": 0.041077,
     "end_time": "2022-08-01T21:32:48.370043",
     "exception": false,
     "start_time": "2022-08-01T21:32:48.328966",
     "status": "completed"
    },
    "tags": []
   },
   "outputs": [],
   "source": [
    "future_w_features = df_and_future.query('isFuture').copy()"
   ]
  },
  {
   "cell_type": "markdown",
   "id": "21ca9460-e720-436a-a777-4c81b28d1fd5",
   "metadata": {
    "papermill": {
     "duration": 0.024519,
     "end_time": "2022-08-01T21:32:48.417057",
     "exception": false,
     "start_time": "2022-08-01T21:32:48.392538",
     "status": "completed"
    },
    "tags": []
   },
   "source": [
    "### Predict the future"
   ]
  },
  {
   "cell_type": "code",
   "execution_count": null,
   "id": "8b2ec37e-b5bb-4ca9-a233-8a0318eec90a",
   "metadata": {
    "papermill": {
     "duration": 0.0637,
     "end_time": "2022-08-01T21:32:48.501748",
     "exception": false,
     "start_time": "2022-08-01T21:32:48.438048",
     "status": "completed"
    },
    "tags": []
   },
   "outputs": [],
   "source": [
    "future_w_features['pred'] = reg.predict(future_w_features[FEATURES])"
   ]
  },
  {
   "cell_type": "code",
   "execution_count": null,
   "id": "77a235fa-7c16-4573-8d86-5373b8b390a4",
   "metadata": {
    "papermill": {
     "duration": 0.478984,
     "end_time": "2022-08-01T21:32:49.000788",
     "exception": false,
     "start_time": "2022-08-01T21:32:48.521804",
     "status": "completed"
    },
    "tags": []
   },
   "outputs": [],
   "source": [
    "future_w_features['pred'].plot(figsize=(10, 5),\n",
    "                               ms=1,\n",
    "                               lw=1,\n",
    "                               title='Future Predictions')\n",
    " "
   ]
  },
  {
   "cell_type": "markdown",
   "id": "a4091d5f-b63d-49de-8a4d-1bbc2bac9e48",
   "metadata": {},
   "source": [
    "## Model Building"
   ]
  },
  {
   "cell_type": "code",
   "execution_count": null,
   "id": "a8ced248-9081-4794-ad61-b7789410c2e7",
   "metadata": {},
   "outputs": [],
   "source": [
    "from sklearn.metrics import confusion_matrix\n",
    "from sklearn.metrics import roc_curve, roc_auc_score\n",
    "from sklearn.metrics import classification_report"
   ]
  },
  {
   "cell_type": "markdown",
   "id": "f85f28c3-d11a-449e-9cc4-a08a8c90555d",
   "metadata": {},
   "source": [
    "#### Rozdělení na trénovací a testovací data"
   ]
  },
  {
   "cell_type": "code",
   "execution_count": null,
   "id": "70149509-99d3-4957-ac56-77d0c51d2d8c",
   "metadata": {},
   "outputs": [],
   "source": [
    "x = data[['age', 'hypertension', 'heart_disease','bmi', 'gender_encoded', 'married_encoded','worktype_encoded','residence_encoded','smoker_encoded']]\n",
    "y = data['stroke']\n",
    "x_train, x_test, y_train, y_test = train_test_split(x, y, test_size=0.2, random_state=0)\n",
    "sc = StandardScaler() # standardization of test and train set\n",
    "x_train = sc.fit_transform(x_train)\n",
    "x_test = sc.fit_transform(x_test)\n",
    "print(\"Shape of x_train:{}\".format(x_train.shape))\n",
    "print(\"Shape of x_test:{}\".format(x_test.shape))\n",
    "print(\"Shape of y_train:{}\".format(y_train.shape))\n",
    "print(\"Shape of y_test:{}\".format(y_test.shape))"
   ]
  },
  {
   "cell_type": "markdown",
   "id": "529fa3c6-d954-4d7c-80a5-0782a0115496",
   "metadata": {
    "tags": []
   },
   "source": [
    "#### Baseline\n",
    "* the most basic algorithm, where we find whether is more probable to have or not have stroke in trainign dataset\n",
    "* in the testing dataset, that everyone has or does not have a troke based on the first point\n",
    "* useful to check whether other algorithms are working\n",
    "* in this case the moct common scenario is NO STROKE"
   ]
  },
  {
   "cell_type": "code",
   "execution_count": null,
   "id": "25cf138b-b212-44e6-9c86-0e07c154f7e5",
   "metadata": {},
   "outputs": [],
   "source": [
    "# BASELINE\n",
    "y_prediction = np.zeros(len(x_test), dtype=int)\n",
    "accuracy = accuracy_score(y_test, y_prediction)"
   ]
  },
  {
   "cell_type": "markdown",
   "id": "0d04f41b-b7dc-4e3f-b016-d46a58e362d7",
   "metadata": {},
   "source": [
    "#### KNN\n",
    "* implemented for 1-10 nearost neigbors\n",
    "* runs the algorithm 9 times in total and use the k-negbors with the best result"
   ]
  },
  {
   "cell_type": "code",
   "execution_count": null,
   "id": "35b8d9e2-c8ac-41f9-ab7d-b86d562f851b",
   "metadata": {},
   "outputs": [],
   "source": [
    "# KNN\n",
    "best_accuracy = 0\n",
    "best_k = 0\n",
    "for k in range (1,10):\n",
    "    model1 = KNeighborsClassifier(k).fit(x_train, y_train) # serach for k closest neigbors\n",
    "    y_prediction1 = model1.predict(x_test)  # predict response\n",
    "    accuracy1 = max(best_accuracy, accuracy_score(y_test, y_prediction1))\n",
    "    if accuracy1 > best_accuracy: best_k = k\n",
    "    best_accuracy = accuracy1"
   ]
  },
  {
   "cell_type": "markdown",
   "id": "bf4128c5-d98d-416d-aeb8-1cfce3f95189",
   "metadata": {},
   "source": [
    " #### DECISION TREE"
   ]
  },
  {
   "cell_type": "code",
   "execution_count": null,
   "id": "98a9f112-7f25-436c-a730-291dc2971ab4",
   "metadata": {},
   "outputs": [],
   "source": [
    "# DECISION TREE\n",
    "decisiontree = DecisionTreeClassifier()  # Create models\n",
    "model2 = decisiontree.fit(x_train, y_train)\n",
    "y_prediction2 = model2.predict(x_test)  # predict response\n",
    "accuracy2 = accuracy_score(y_test, y_prediction2)"
   ]
  },
  {
   "cell_type": "markdown",
   "id": "df67952c-3013-45c0-b0eb-bbd111d3d064",
   "metadata": {},
   "source": [
    "#### SVM"
   ]
  },
  {
   "cell_type": "code",
   "execution_count": null,
   "id": "b4ad478f-2bb4-4c86-ac2c-d86041aaecaa",
   "metadata": {},
   "outputs": [],
   "source": [
    "# SVM\n",
    "svmmodel = svm.SVC(kernel='linear', probability=True)  # Linear Kernel\n",
    "model3 = svmmodel.fit(x_train, y_train)\n",
    "y_prediction3 = model3.predict(x_test)  # predict response\n",
    "accuracy3 = accuracy_score(y_test, y_prediction3)"
   ]
  },
  {
   "cell_type": "markdown",
   "id": "833440d5-112b-4b41-acbb-66f01f91686f",
   "metadata": {},
   "source": [
    "#### LOGISTIC REGRESSION"
   ]
  },
  {
   "cell_type": "code",
   "execution_count": null,
   "id": "2a8c1fc7-0068-4854-8f32-2bb4f2fef198",
   "metadata": {},
   "outputs": [],
   "source": [
    "# LOGISTIC REGRESSION\n",
    "logisticregression = LogisticRegression()\n",
    "model4 = logisticregression.fit(x_train, y_train)\n",
    "y_prediction4 = model4.predict(x_test)  # predict response\n",
    "accuracy4 = accuracy_score(y_test, y_prediction4)"
   ]
  },
  {
   "cell_type": "markdown",
   "id": "65257d1e-a91f-4bae-a030-f64ef56f7663",
   "metadata": {},
   "source": [
    "## Results\n",
    "* Baseline: dummiest, other algorithms should be able to be more accure\n",
    "* KNN, Decision Tree, SVM, Logistic Regression\n",
    "\n",
    "Decision trees are working the worst in this scenario, the rest is giving as the same results as baseline, which shows how hard the task is. As the majority of results are \"no stroke\", the algorithm learns on his own that it is the best to say that everything is not a stroke."
   ]
  },
  {
   "cell_type": "markdown",
   "id": "f47f9c22-173b-4f6c-9737-1a699d67d7fc",
   "metadata": {},
   "source": [
    "#### Predictions table"
   ]
  },
  {
   "cell_type": "code",
   "execution_count": null,
   "id": "f283ae8b-d4bc-4c9c-b29e-215932193c00",
   "metadata": {},
   "outputs": [],
   "source": [
    "report = pd.DataFrame()\n",
    "report['Actual values'] = y_test\n",
    "report['Predicted values KNN'] = y_prediction1\n",
    "report['Predicted values Decision tree'] = y_prediction2\n",
    "report['Predicted values SVM'] = y_prediction3\n",
    "report['Predicted values Logistic Regression'] = y_prediction4\n",
    "report.to_csv('predictions.csv') #save our predictions into csv file"
   ]
  },
  {
   "cell_type": "markdown",
   "id": "2475e3b0-ba06-4f63-8933-734098462be7",
   "metadata": {},
   "source": [
    "#### Accuracies"
   ]
  },
  {
   "cell_type": "code",
   "execution_count": null,
   "id": "cde0bd47-d8f1-4329-9f6c-a9dbad592559",
   "metadata": {
    "tags": []
   },
   "outputs": [],
   "source": [
    "print(\"Baseline: \",accuracy)\n",
    "print(\"KNN: \",accuracy1, \"(for \"+str(best_k)+\" closest neigbors)\")\n",
    "print(\"Decision Trees: \", accuracy2)\n",
    "print(\"SVM :\", accuracy3)\n",
    "print(\"Logistic Regression: \", accuracy4)"
   ]
  },
  {
   "cell_type": "markdown",
   "id": "9429c40a-03d2-4c73-b004-8d23f2bdb464",
   "metadata": {},
   "source": [
    "#### CONFUSION MATRIX"
   ]
  },
  {
   "cell_type": "code",
   "execution_count": null,
   "id": "2be3f186-303a-4924-ab99-dceb9deba986",
   "metadata": {},
   "outputs": [],
   "source": [
    "ConfusionMatrix1 = confusion_matrix(y_test, y_prediction1)\n",
    "ConfusionMatrix2 = confusion_matrix(y_test, y_prediction2)\n",
    "ConfusionMatrix3 = confusion_matrix(y_test, y_prediction3)\n",
    "ConfusionMatrix4 = confusion_matrix(y_test, y_prediction4)\n",
    "\n",
    "# KNN\n",
    "plt.subplots(2, 2, figsize=(10, 7))\n",
    "plt.suptitle('Confusion Matrix')\n",
    "plt.subplot(2, 2, 1)\n",
    "ax = sns.heatmap(ConfusionMatrix1, annot=True, cmap=\"YlGnBu\")\n",
    "plt.title(\"KNN\")\n",
    "ax.set_ylabel('Actual values')\n",
    "\n",
    "# DECISION TREE\n",
    "plt.subplot(2, 2, 2)\n",
    "ax = sns.heatmap(ConfusionMatrix2, annot=True, cmap=\"YlGnBu\")\n",
    "plt.title(\"Decision Tree\")\n",
    "ax.set_ylabel('Actual values')\n",
    "\n",
    "# SVM\n",
    "plt.subplot(2, 2, 3)\n",
    "ax = sns.heatmap(ConfusionMatrix3, annot=True, cmap=\"YlGnBu\")\n",
    "plt.title(\"SVM\")\n",
    "ax.set_xlabel('Predicted values')\n",
    "ax.set_ylabel('Actual values')\n",
    "\n",
    "# LOGISTIC REGRESSION\n",
    "plt.subplot(2, 2, 4)\n",
    "ax = sns.heatmap(ConfusionMatrix4, annot=True, cmap=\"YlGnBu\")\n",
    "plt.title(\"Logistic Regression\")\n",
    "ax.set_xlabel('Predicted values')\n",
    "ax.set_ylabel('Actual values')\n",
    "plt.savefig('Confusion Matrix.pdf')"
   ]
  },
  {
   "cell_type": "markdown",
   "id": "892e3784-0550-475c-acdd-8d02d876b804",
   "metadata": {},
   "source": [
    "#### ROS CURVE"
   ]
  },
  {
   "cell_type": "code",
   "execution_count": null,
   "id": "20aa27e0-85be-42a1-b708-e234ad9481d7",
   "metadata": {},
   "outputs": [],
   "source": [
    "    plt.subplots(2, 2, figsize=(10, 7))\n",
    "    plt.suptitle('ROC Curve')\n",
    "    plt.subplot(2, 2, 1)\n",
    "    train_probs1 = model1.predict_proba(x_train)\n",
    "    train_probs1 = train_probs1[:, 1]\n",
    "    fpr1_train, tpr1_train, _ = roc_curve(y_train, train_probs1)  # pos_label=1\n",
    "    test_probs1 = model1.predict_proba(x_test)\n",
    "    test_probs1 = test_probs1[:, 1]\n",
    "    fpr1_test, tpr1_test, _ = roc_curve(y_test, test_probs1)  # pos_label=1\n",
    "    plt.plot(fpr1_train, tpr1_train, marker='.', label='train')\n",
    "    plt.plot(fpr1_test, tpr1_test, marker='.', label='validation')\n",
    "    plt.title('KNN')\n",
    "    plt.ylabel('True Positive Rate')\n",
    "    plt.legend()\n",
    "\n",
    "    # ROC CURVE DECISION TREE\n",
    "    plt.subplot(2, 2, 2)\n",
    "    train_probs2 = model2.predict_proba(x_train)\n",
    "    train_probs2 = train_probs2[:, 1]\n",
    "    fpr2_train, tpr2_train, _ = roc_curve(y_train, train_probs2)  # pos_label=1\n",
    "    test_probs2 = model2.predict_proba(x_test)\n",
    "    test_probs2 = test_probs2[:, 1]\n",
    "    fpr2_test, tpr2_test, _ = roc_curve(y_test, test_probs2)  # pos_label=1\n",
    "    plt.plot(fpr2_train, tpr2_train, marker='.', label='train')\n",
    "    plt.plot(fpr2_test, tpr2_test, marker='.', label='validation')\n",
    "    plt.title('Decision Tree')\n",
    "    plt.ylabel('True Positive Rate')\n",
    "    plt.legend()\n",
    "\n",
    "    # ROC CURVE MODEL SVM\n",
    "    plt.subplot(2, 2, 3)\n",
    "    train_probs3 = model3.predict_proba(x_train)\n",
    "    train_probs3 = train_probs3[:, 1]\n",
    "    fpr3_train, tpr3_train, _ = roc_curve(y_train, train_probs3)  # pos_label=1\n",
    "    test_probs3 = model3.predict_proba(x_test)\n",
    "    test_probs3 = test_probs3[:, 1]\n",
    "    fpr3_test, tpr3_test, _ = roc_curve(y_test, test_probs3)  # pos_label=1\n",
    "    plt.plot(fpr3_train, tpr3_train, marker='.', label='train')\n",
    "    plt.plot(fpr3_test, tpr3_test, marker='.', label='validation')\n",
    "    plt.title('SVM')\n",
    "    plt.xlabel('False Positive Rate')\n",
    "    plt.ylabel('True Positive Rate')\n",
    "    plt.legend()\n",
    "\n",
    "    # ROC CURVE LOGISTIC REGRESSION\n",
    "    plt.subplot(2, 2, 4)\n",
    "    train_probs4 = model4.predict_proba(x_train)\n",
    "    train_probs4 = train_probs4[:, 1]\n",
    "    fpr4_train, tpr4_train, _ = roc_curve(y_train, train_probs4)  # pos_label=1\n",
    "    test_probs4 = model4.predict_proba(x_test)\n",
    "    test_probs4 = test_probs4[:, 1]\n",
    "    fpr4_test, tpr4_test, _ = roc_curve(y_test, test_probs4)  # pos_label=1\n",
    "    plt.plot(fpr4_train, tpr4_train, marker='.', label='train')\n",
    "    plt.plot(fpr4_test, tpr4_test, marker='.', label='validation')\n",
    "    plt.title('Logistic Regression')\n",
    "    plt.xlabel('False Positive Rate')\n",
    "    plt.ylabel('True Positive Rate')\n",
    "    plt.legend()\n",
    "    plt.savefig('ROC Curve.pdf')"
   ]
  }
 ],
 "metadata": {
  "kernelspec": {
   "display_name": "Python 3",
   "language": "python",
   "name": "python3"
  },
  "language_info": {
   "codemirror_mode": {
    "name": "ipython",
    "version": 3
   },
   "file_extension": ".py",
   "mimetype": "text/x-python",
   "name": "python",
   "nbconvert_exporter": "python",
   "pygments_lexer": "ipython3",
   "version": "3.10.4"
  }
 },
 "nbformat": 4,
 "nbformat_minor": 5
}
