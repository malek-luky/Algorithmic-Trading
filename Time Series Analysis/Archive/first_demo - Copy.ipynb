{
 "cells": [
  {
   "cell_type": "code",
   "execution_count": 30,
   "metadata": {},
   "outputs": [],
   "source": [
    "# IMPORTS\n",
    "import xgboost as xgb\n",
    "import numpy as np\n",
    "import matplotlib.pyplot as plt\n",
    "import pandas as pd\n",
    "import yfinance as yf\n",
    "import pandas_ta as ta\n",
    "import seaborn as sns\n",
    "\n",
    "# NORMALIZATION\n",
    "from sklearn.preprocessing import MinMaxScaler\n",
    "\n",
    "# REPORT\n",
    "from sklearn.metrics import confusion_matrix\n",
    "from sklearn.metrics import roc_curve, roc_auc_score\n",
    "from sklearn.metrics import classification_report\n",
    "from sklearn.metrics import mean_squared_error\n",
    "\n",
    "# EXTRA ARGUMENTS\n",
    "#plt.ioff()   #stops showing plots\n",
    "FastRun=True #if true distribution and correlation plots are not generated\n",
    "pd.set_option('display.max_columns',None) #shows all columns using df.tail() or df.head()"
   ]
  },
  {
   "cell_type": "code",
   "execution_count": 2,
   "metadata": {},
   "outputs": [],
   "source": [
    "# ONLINE DOWNLOAD \n",
    "#df = yf.download(tickers = '^GSPC', start = '2000-1-1',end = '2018-12-31')\n",
    "#df.to_csv('S&P500.csv')\n",
    "\n",
    "# OFFLINE LOAD\n",
    "df = pd.read_csv(\"S&P500.csv\",index_col='Date')\n",
    "df.index = pd.to_datetime(df.index)"
   ]
  },
  {
   "cell_type": "markdown",
   "metadata": {
    "tags": []
   },
   "source": [
    "# FEATURES\n",
    "1) Remove Outliers\n",
    "2) Add Technical Indicators\n",
    "3) Add colums with dates\n",
    "4) Add lags\n",
    "5) Add targets (train results)\n",
    "6) Remove N/A "
   ]
  },
  {
   "cell_type": "markdown",
   "metadata": {
    "tags": []
   },
   "source": [
    "## OUTLIERS\n",
    "* Using boxplot to remove outliers\n",
    "* Only Volume has siginificant number of outliers\n",
    "* Why removing outliers? We want to train our model on typical behaviour, unexpected changes worsten testing results"
   ]
  },
  {
   "cell_type": "code",
   "execution_count": 3,
   "metadata": {},
   "outputs": [],
   "source": [
    "def outliers(df,col):\n",
    "    \"\"\"\n",
    "    Remove outliers in dataframe df at colum col\n",
    "    \"\"\"\n",
    "    Q1 =  df[col].quantile(0.25)\n",
    "    Q3 = df[col].quantile(0.75)\n",
    "    IQR = Q3 - Q1\n",
    "    print(\"Outliers \"+ str(col),df[(df[col] < Q1-1.5*IQR ) | (df[col] > Q3+1.5*IQR)][col])\n",
    "    df = df[(df[col] > Q1-1.5*IQR ) & (df[col] < Q3+1.5*IQR)]\n",
    "    return df"
   ]
  },
  {
   "cell_type": "code",
   "execution_count": 4,
   "metadata": {},
   "outputs": [
    {
     "name": "stdout",
     "output_type": "stream",
     "text": [
      "Outliers Volume Date\n",
      "2008-09-15     8279510000\n",
      "2008-09-16     9459830000\n",
      "2008-09-17     9431870000\n",
      "2008-09-18    10082690000\n",
      "2008-09-19     9387170000\n",
      "2008-10-06     7956020000\n",
      "2008-10-08     8716330000\n",
      "2008-10-10    11456230000\n",
      "2008-10-14     8161990000\n",
      "2008-10-16     7984500000\n",
      "2008-11-13     7849120000\n",
      "2008-11-20     9093740000\n",
      "2008-11-21     9495900000\n",
      "2008-11-24     7879440000\n",
      "2009-01-15     7807350000\n",
      "2009-02-20     8210590000\n",
      "2009-02-25     7483640000\n",
      "2009-02-26     7599970000\n",
      "2009-02-27     8926480000\n",
      "2009-03-02     7868290000\n",
      "2009-03-03     7583230000\n",
      "2009-03-04     7673620000\n",
      "2009-03-05     7507250000\n",
      "2009-03-10     8618330000\n",
      "2009-03-16     7883540000\n",
      "2009-03-18     9098450000\n",
      "2009-03-19     9033870000\n",
      "2009-03-20     7643720000\n",
      "2009-03-23     7715770000\n",
      "2009-03-25     7687180000\n",
      "2009-04-02     7542810000\n",
      "2009-04-09     7600710000\n",
      "2009-04-14     7569840000\n",
      "2009-04-21     7436490000\n",
      "2009-05-06     8555040000\n",
      "2009-05-07     9120100000\n",
      "2009-05-08     8163280000\n",
      "2009-05-20     8205060000\n",
      "2009-12-17     7615070000\n",
      "2010-04-16     8108470000\n",
      "2010-04-27     7454540000\n",
      "2010-05-06    10617810000\n",
      "2010-05-07     9472910000\n",
      "2010-05-20     8328570000\n",
      "2016-06-24     7597450000\n",
      "2018-12-21     7657890000\n",
      "Name: Volume, dtype: int64\n"
     ]
    },
    {
     "data": {
      "image/png": "[encoded data removed]",
      "text/plain": [
       "<Figure size 1080x360 with 1 Axes>"
      ]
     },
     "metadata": {
      "needs_background": "light"
     },
     "output_type": "display_data"
    }
   ],
   "source": [
    "# OUTLIERS\n",
    "df['Volume'].plot(kind='hist', bins=500,figsize=(15, 5))\n",
    "plt.savefig(\"Outliers_Histogram.pdf\")\n",
    "sns.boxplot(data=df['Volume'])\n",
    "plt.savefig(\"Outliers_Boxplot.pdf\")\n",
    "df = outliers(df,'Volume')"
   ]
  },
  {
   "cell_type": "markdown",
   "metadata": {},
   "source": [
    "## TECHNICAL INDICATORS\n",
    "* Importance of each technical indicator is ploted after training the model\n",
    "* ML models can find some patterns between TA and trading volume, although it is very implausible\n",
    "* Only the most important features are used\n",
    "* Why? It would be hard to understand the behaviour of our model with so many features"
   ]
  },
  {
   "cell_type": "code",
   "execution_count": 5,
   "metadata": {
    "tags": []
   },
   "outputs": [],
   "source": [
    "df['VolumeDiff'] = df['Volume']-df['Volume'].shift(1)\n",
    "df['Average'] = df.ta.midprice(length=1) #midprice\n",
    "df['ATR'] = df.ta.atr(length=20)\n",
    "df['RSI'] = df.ta.rsi(length=14)\n",
    "df['MA40'] = df.ta.sma(length=40)\n",
    "df['MA80'] = df.ta.sma(length=80)\n",
    "df['MA140'] = df.ta.sma(length=140)\n",
    "df[\"CCI\"] = ta.cci(df.High, df.Low, df.Close, length=16)\n",
    "df[\"AO\"] = ta.ao(df.High, df.Low)\n",
    "df[\"MOM\"] = ta.mom(df.Close, length=16)\n",
    "df[\"ATR\"] = ta.atr(df.High, df.Low, df.Close, length=16)\n",
    "df[\"BOP\"] = ta.bop(df.Open, df.High, df.Low, df.Close, length=16)\n",
    "df[\"RVI\"] = ta.rvi(df.Close)\n",
    "df[\"WPR\"] = ta.willr(df.High, df.Low, df.Close, length=16)\n",
    "df = pd.concat([df,ta.macd(df.Close, length = 16)],axis=1, join='inner')\n",
    "df = pd.concat([df,ta.dm(df.High, df.Low, length=16)],axis=1, join='inner')\n",
    "df = pd.concat([df,ta.stochrsi(df.Close, length=16)],axis=1, join='inner')\n",
    "df = pd.concat([df,ta.stoch(df.High, df.Low, df.Close)],axis=1, join='inner')"
   ]
  },
  {
   "cell_type": "markdown",
   "metadata": {},
   "source": [
    "## DATES\n",
    "* There are no occuring patterns, therefore adding dates features should not be useful\n",
    "* To prove the hypothesis we check it with the feature importance after training the model"
   ]
  },
  {
   "cell_type": "code",
   "execution_count": 6,
   "metadata": {
    "tags": []
   },
   "outputs": [],
   "source": [
    "def add_dates(df):\n",
    "    \"\"\"\n",
    "    Create time series features based on time series index.\n",
    "    \"\"\"\n",
    "    df = df.copy()\n",
    "    df['Dayofweek'] = df.index.dayofweek\n",
    "    df['Month'] = df.index.month\n",
    "    df['Year'] = df.index.year\n",
    "    df['Dayofmonth'] = df.index.day\n",
    "    return df"
   ]
  },
  {
   "cell_type": "code",
   "execution_count": 7,
   "metadata": {},
   "outputs": [],
   "source": [
    "df = add_dates(df)"
   ]
  },
  {
   "cell_type": "markdown",
   "metadata": {},
   "source": [
    "## ADD LAGS\n",
    "* Disclaimer: This is WIP\n",
    "* No monthly/weekly/hourly occuring patterns as for exampel in power consumption\n",
    "* What if there are some historically reocurring patterns?\n",
    "    * What if the market behaves similarly as week/month/halfyear/year ago?\n",
    "    * Well, then use unsupervised ML, not this :D\n",
    "* No reason this should be helpful, since the ML models check for the reocurring patterns themselves\n",
    "* Check the hypothesis in features importance, if these features are useful, come back and dive deep into it\n",
    "* TODO: Investigate the reocurring patterns only with no other features (using unsupervised ML like DBSCAN?)"
   ]
  },
  {
   "cell_type": "code",
   "execution_count": 8,
   "metadata": {
    "papermill": {
     "duration": 0.026134,
     "end_time": "2022-08-01T21:29:46.159093",
     "exception": false,
     "start_time": "2022-08-01T21:29:46.132959",
     "status": "completed"
    },
    "tags": []
   },
   "outputs": [],
   "source": [
    "def add_lags(df):\n",
    "    \"\"\"\n",
    "    Add historical data do dataframe df\n",
    "    \"\"\"\n",
    "    df['Volume-Y/2'] = df['Volume'].shift(126) #252 trading days per year\n",
    "    df['Volume-M'] = df['Volume'].shift(21)\n",
    "    df['Volume-W'] = df['Volume'].shift(5)\n",
    "    df['Volume-D'] = df['Volume'].shift(1)\n",
    "    df['VolumeDiff-Y/2'] = df['VolumeDiff'].shift(126)\n",
    "    df['VolumeDiff-M'] = df['VolumeDiff'].shift(21)\n",
    "    df['VolumeDiff-W'] = df['VolumeDiff'].shift(5)\n",
    "    df['VolumeDiff-D'] = df['VolumeDiff'].shift(1)\n",
    "    return df"
   ]
  },
  {
   "cell_type": "code",
   "execution_count": 9,
   "metadata": {},
   "outputs": [],
   "source": [
    "df = add_lags(df)"
   ]
  },
  {
   "cell_type": "markdown",
   "metadata": {
    "tags": []
   },
   "source": [
    "## TARGETS\n",
    "   We are trying to predict three targets:\n",
    "1) Target Volume: The trading volume for the next day, the one we want to predict\n",
    "    * It will not be that easy :)\n",
    "2) Target VolumeDiff: Difference between today volume and tomorrow\n",
    "    * Why VolumeDiff? While predicting the volume, the ML will likely train to just predict the volume from previous day\n",
    "3) TargetClass: 0 if volume in the next day decreases, 1 if increases\n",
    "    * Why TargetClass? Predicting the exact volume difference still be too complex, what probability could be achieved if jsut predicting the rise or fall?"
   ]
  },
  {
   "cell_type": "code",
   "execution_count": 10,
   "metadata": {
    "tags": []
   },
   "outputs": [],
   "source": [
    "df['Target_Volume'] = df['Volume'].shift(-1)\n",
    "df['Target_VolumeDiff'] = df['Volume'].shift(-1)-df['Volume']\n",
    "df['Target_VolumeClass'] = [1 if df.Target_VolumeDiff[i]>0 else 0 for i in range(len(df))] #TODO: pridat komplexnejsi categorizaci"
   ]
  },
  {
   "cell_type": "markdown",
   "metadata": {
    "tags": []
   },
   "source": [
    "## DROP N/A VALUES\n",
    "* Having N/A values in our dataset will make it harder to train the ML\n",
    "* All N/A values are in the first half year of our training data (moving average and lags) and the very last day (missing target)\n",
    "* Since we have 15 years of training data, missing half a year will probably not make such difference\n",
    "* Another TODO: Does the model even with some N/A values in first half of the year predict better results?"
   ]
  },
  {
   "cell_type": "code",
   "execution_count": 11,
   "metadata": {},
   "outputs": [
    {
     "name": "stdout",
     "output_type": "stream",
     "text": [
      "Open                     0\n",
      "High                     0\n",
      "Low                      0\n",
      "Close                    0\n",
      "Adj Close                0\n",
      "Volume                   0\n",
      "VolumeDiff               0\n",
      "Average                  0\n",
      "ATR                      3\n",
      "RSI                      1\n",
      "MA40                    26\n",
      "MA80                    66\n",
      "MA140                  126\n",
      "CCI                      2\n",
      "AO                      20\n",
      "MOM                      3\n",
      "BOP                      0\n",
      "RVI                      0\n",
      "WPR                      2\n",
      "MACD_12_26_9            12\n",
      "MACDh_12_26_9           20\n",
      "MACDs_12_26_9           20\n",
      "DMP_16                   3\n",
      "DMN_16                   3\n",
      "STOCHRSIk_16_14_3_3     18\n",
      "STOCHRSId_16_14_3_3     20\n",
      "STOCHk_14_3_3            2\n",
      "STOCHd_14_3_3            4\n",
      "Dayofweek                0\n",
      "Month                    0\n",
      "Year                     0\n",
      "Dayofmonth               0\n",
      "Volume-Y/2             126\n",
      "Volume-M                21\n",
      "Volume-W                 5\n",
      "Volume-D                 1\n",
      "VolumeDiff-Y/2         126\n",
      "VolumeDiff-M            21\n",
      "VolumeDiff-W             5\n",
      "VolumeDiff-D             1\n",
      "Target_Volume            1\n",
      "Target_VolumeDiff        1\n",
      "Target_VolumeClass       0\n",
      "dtype: int64\n"
     ]
    }
   ],
   "source": [
    "# DROP THE NA VALUES\n",
    "print(df.isna().sum())\n",
    "df = df.dropna()\n",
    "#df.reset_index(drop=True, inplace=True)\n",
    "#df.reset_index('Date')\n",
    "#print(*df.columns.tolist(), sep='\\n')\n",
    "#df.tail()"
   ]
  },
  {
   "cell_type": "markdown",
   "metadata": {
    "tags": []
   },
   "source": [
    "# DATA ANALYSIS\n",
    "1) Occuring patterns: Are there any similarities in weekly/monthly/yearly basis?"
   ]
  },
  {
   "cell_type": "markdown",
   "metadata": {
    "tags": []
   },
   "source": [
    "## OCCURING PATTERNS?\n",
    "* Check if there are some ireularities during days/weeks/months with higher trading volume\n",
    "* No, there are not, throughout the weeks, months, years the volume is not showing any significant difference"
   ]
  },
  {
   "cell_type": "code",
   "execution_count": 12,
   "metadata": {},
   "outputs": [
    {
     "data": {
      "image/png": "[encoded data removed]",
      "text/plain": [
       "<Figure size 720x1080 with 4 Axes>"
      ]
     },
     "metadata": {
      "needs_background": "light"
     },
     "output_type": "display_data"
    }
   ],
   "source": [
    "fig, axs = plt.subplots(4,1,figsize=(10, 15),constrained_layout = True)\n",
    "df.loc[(df.index > '01-01-2015') & (df.index < '02-01-2015')].plot(ax=axs[0],x='Dayofmonth',y='Volume', label='January 2015')\n",
    "df.loc[(df.index > '01-01-2014') & (df.index < '02-01-2014')].plot(ax=axs[0],x='Dayofmonth',y='Volume', label='January 2014')\n",
    "df.loc[(df.index > '01-01-2013') & (df.index < '02-01-2013')].plot(ax=axs[0],x='Dayofmonth',y='Volume', label='January 2013')\n",
    "axs[0].set_title('Selling during the January in 3 different years')\n",
    "\n",
    "df.loc[(df.index > '01-12-2015') & (df.index < '01-19-2015')].plot(ax=axs[1],x='Dayofweek',y='Volume', label='Week 1')\n",
    "df.loc[(df.index > '01-19-2015') & (df.index < '01-26-2015')].plot(ax=axs[1],x='Dayofweek',y='Volume', label='Week 2')\n",
    "df.loc[(df.index > '01-26-2015') & (df.index < '02-02-2015')].plot(ax=axs[1],x='Dayofweek',y='Volume', label='Week 3')\n",
    "axs[1].set_title('Selling during first 3 weeks in January 2015')\n",
    "\n",
    "sns.boxplot(data=df, ax=axs[2],x='Dayofweek', y='Volume')\n",
    "axs[2].set_title('Selling by day of week')\n",
    "\n",
    "sns.boxplot(data=df, ax=axs[3],x='Dayofmonth', y='Volume')\n",
    "axs[3].set_title('Selling by day of month')\n",
    "\n",
    "plt.savefig('Occuring Patters.pdf')"
   ]
  },
  {
   "cell_type": "markdown",
   "metadata": {
    "tags": []
   },
   "source": [
    "## DISTRIBUTION\n",
    "* Check if the data are evely distributed\n",
    "* TODO: Standardization / Normalization if not"
   ]
  },
  {
   "cell_type": "code",
   "execution_count": 13,
   "metadata": {},
   "outputs": [],
   "source": [
    "if FastRun is not True:\n",
    "    cols = df.columns.tolist()\n",
    "    fig, axs = plt.subplots(len(cols), 1,figsize=(15, len(cols)*3)) #TODO: zobrazit vsechno rozdeleni se spolecnou x osou, at zjistime, zda neco neni skew\n",
    "    plt.suptitle('Distribution')\n",
    "    for i in range(len(cols)):\n",
    "        df[cols[i]].plot(kind='hist',ax=axs[i],title=cols[i])\n",
    "    plt.savefig('Distribution.pdf')"
   ]
  },
  {
   "cell_type": "markdown",
   "metadata": {
    "tags": []
   },
   "source": [
    "## CORRELATION\n",
    "* Correlation between all the features\n",
    "* TODO: Investigate if the correlation is reasonable, if not, why?\n",
    "* FastRun argument: Takes around 40s to generate, generate only if necessary"
   ]
  },
  {
   "cell_type": "code",
   "execution_count": 14,
   "metadata": {
    "tags": []
   },
   "outputs": [],
   "source": [
    "if FastRun is not True:\n",
    "    plt.figure(figsize=(50, 50))\n",
    "    plt.title('Correlation matrix of data')\n",
    "    cor = df.corr()\n",
    "    hm1 = sns.heatmap(cor, annot=True, cmap='YlGnBu')\n",
    "    plt.savefig('Correlation.pdf')"
   ]
  },
  {
   "cell_type": "markdown",
   "metadata": {
    "tags": []
   },
   "source": [
    "## NORMALIZE\n",
    "* Faster Convergence\n",
    "* Correct axis ratio if we want for example compute distances between values\n",
    "* FastRun argument: Takes around 40s to generate, generate only if necessary"
   ]
  },
  {
   "cell_type": "code",
   "execution_count": 15,
   "metadata": {},
   "outputs": [],
   "source": [
    "if FastRun is not True:\n",
    "    df_orig = df.copy()\n",
    "    sc = MinMaxScaler()\n",
    "    scaled = sc.fit_transform(df)\n",
    "    df=pd.DataFrame(scaled,columns=df.columns,index=df.index)"
   ]
  },
  {
   "cell_type": "markdown",
   "metadata": {
    "tags": []
   },
   "source": [
    "## NORMALIZED DISTRIBUTION\n",
    "* Check if the data are evenly distributed after normalization\n",
    "* FastRun argument: Takes around 40s to generate, generate only if necessary"
   ]
  },
  {
   "cell_type": "code",
   "execution_count": 16,
   "metadata": {},
   "outputs": [],
   "source": [
    "if FastRun is not True:\n",
    "    cols = df.columns.tolist()\n",
    "    fig, axs = plt.subplots(len(cols), 1,figsize=(15, len(cols)*3)) #TODO: zobrazit vsechno rozdeleni se spolecnou x osou, at zjistime, zda neco neni skew\n",
    "    plt.suptitle('Normalised Distribution')\n",
    "    for i in range(len(cols)):\n",
    "        df[cols[i]].plot(kind='hist',ax=axs[i],title=cols[i])\n",
    "    plt.savefig('Distribution Normalised.pdf')"
   ]
  },
  {
   "cell_type": "markdown",
   "metadata": {
    "tags": []
   },
   "source": [
    "# XGBOOST\n",
    "* Kaggle competitions proved that this algprithm is very powerful\n",
    "* Although my main focus is on transformers, XGBoost could give a great baseline\n",
    "* Three different models are trained based on the target\n",
    "    1) Next day volume\n",
    "    2) Next day volume difference\n",
    "    3) Next day volume class"
   ]
  },
  {
   "cell_type": "code",
   "execution_count": 34,
   "metadata": {},
   "outputs": [
    {
     "data": {
      "text/html": [
       "<div>\n",
       "<style scoped>\n",
       "    .dataframe tbody tr th:only-of-type {\n",
       "        vertical-align: middle;\n",
       "    }\n",
       "\n",
       "    .dataframe tbody tr th {\n",
       "        vertical-align: top;\n",
       "    }\n",
       "\n",
       "    .dataframe thead th {\n",
       "        text-align: right;\n",
       "    }\n",
       "</style>\n",
       "<table border=\"1\" class=\"dataframe\">\n",
       "  <thead>\n",
       "    <tr style=\"text-align: right;\">\n",
       "      <th></th>\n",
       "      <th>Open</th>\n",
       "      <th>High</th>\n",
       "      <th>Low</th>\n",
       "      <th>Close</th>\n",
       "      <th>Adj Close</th>\n",
       "      <th>Volume</th>\n",
       "      <th>VolumeDiff</th>\n",
       "      <th>Average</th>\n",
       "      <th>ATR</th>\n",
       "      <th>RSI</th>\n",
       "      <th>MA40</th>\n",
       "      <th>MA80</th>\n",
       "      <th>MA140</th>\n",
       "      <th>CCI</th>\n",
       "      <th>AO</th>\n",
       "      <th>MOM</th>\n",
       "      <th>BOP</th>\n",
       "      <th>RVI</th>\n",
       "      <th>WPR</th>\n",
       "      <th>MACD_12_26_9</th>\n",
       "      <th>MACDh_12_26_9</th>\n",
       "      <th>MACDs_12_26_9</th>\n",
       "      <th>DMP_16</th>\n",
       "      <th>DMN_16</th>\n",
       "      <th>STOCHRSIk_16_14_3_3</th>\n",
       "      <th>STOCHRSId_16_14_3_3</th>\n",
       "      <th>STOCHk_14_3_3</th>\n",
       "      <th>STOCHd_14_3_3</th>\n",
       "      <th>Dayofweek</th>\n",
       "      <th>Month</th>\n",
       "      <th>Year</th>\n",
       "      <th>Dayofmonth</th>\n",
       "      <th>Volume-Y/2</th>\n",
       "      <th>Volume-M</th>\n",
       "      <th>Volume-W</th>\n",
       "      <th>Volume-D</th>\n",
       "      <th>VolumeDiff-Y/2</th>\n",
       "      <th>VolumeDiff-M</th>\n",
       "      <th>VolumeDiff-W</th>\n",
       "      <th>VolumeDiff-D</th>\n",
       "      <th>Target_Volume</th>\n",
       "      <th>Target_VolumeDiff</th>\n",
       "      <th>Target_VolumeClass</th>\n",
       "      <th>prediction</th>\n",
       "    </tr>\n",
       "    <tr>\n",
       "      <th>Date</th>\n",
       "      <th></th>\n",
       "      <th></th>\n",
       "      <th></th>\n",
       "      <th></th>\n",
       "      <th></th>\n",
       "      <th></th>\n",
       "      <th></th>\n",
       "      <th></th>\n",
       "      <th></th>\n",
       "      <th></th>\n",
       "      <th></th>\n",
       "      <th></th>\n",
       "      <th></th>\n",
       "      <th></th>\n",
       "      <th></th>\n",
       "      <th></th>\n",
       "      <th></th>\n",
       "      <th></th>\n",
       "      <th></th>\n",
       "      <th></th>\n",
       "      <th></th>\n",
       "      <th></th>\n",
       "      <th></th>\n",
       "      <th></th>\n",
       "      <th></th>\n",
       "      <th></th>\n",
       "      <th></th>\n",
       "      <th></th>\n",
       "      <th></th>\n",
       "      <th></th>\n",
       "      <th></th>\n",
       "      <th></th>\n",
       "      <th></th>\n",
       "      <th></th>\n",
       "      <th></th>\n",
       "      <th></th>\n",
       "      <th></th>\n",
       "      <th></th>\n",
       "      <th></th>\n",
       "      <th></th>\n",
       "      <th></th>\n",
       "      <th></th>\n",
       "      <th></th>\n",
       "      <th></th>\n",
       "    </tr>\n",
       "  </thead>\n",
       "  <tbody>\n",
       "    <tr>\n",
       "      <th>2000-07-21</th>\n",
       "      <td>1495.569946</td>\n",
       "      <td>1495.569946</td>\n",
       "      <td>1477.910034</td>\n",
       "      <td>1480.189941</td>\n",
       "      <td>1480.189941</td>\n",
       "      <td>968300000</td>\n",
       "      <td>-96300000.0</td>\n",
       "      <td>1486.739990</td>\n",
       "      <td>19.649192</td>\n",
       "      <td>51.839964</td>\n",
       "      <td>1463.355496</td>\n",
       "      <td>1454.986873</td>\n",
       "      <td>1438.314426</td>\n",
       "      <td>23.066220</td>\n",
       "      <td>24.521663</td>\n",
       "      <td>25.369995</td>\n",
       "      <td>-0.870899</td>\n",
       "      <td>54.037994</td>\n",
       "      <td>-44.902686</td>\n",
       "      <td>10.557491</td>\n",
       "      <td>0.116074</td>\n",
       "      <td>10.441416</td>\n",
       "      <td>4.449249</td>\n",
       "      <td>4.158791</td>\n",
       "      <td>41.335958</td>\n",
       "      <td>53.114461</td>\n",
       "      <td>60.606687</td>\n",
       "      <td>67.037290</td>\n",
       "      <td>4</td>\n",
       "      <td>7</td>\n",
       "      <td>2000</td>\n",
       "      <td>21</td>\n",
       "      <td>1.209800e+09</td>\n",
       "      <td>1.009600e+09</td>\n",
       "      <td>9.606000e+08</td>\n",
       "      <td>1.064600e+09</td>\n",
       "      <td>109100000.0</td>\n",
       "      <td>-21900000.0</td>\n",
       "      <td>-66200000.0</td>\n",
       "      <td>155200000.0</td>\n",
       "      <td>8.803000e+08</td>\n",
       "      <td>-88000000.0</td>\n",
       "      <td>0</td>\n",
       "      <td>NaN</td>\n",
       "    </tr>\n",
       "    <tr>\n",
       "      <th>2000-07-24</th>\n",
       "      <td>1480.189941</td>\n",
       "      <td>1485.880005</td>\n",
       "      <td>1463.800049</td>\n",
       "      <td>1464.290039</td>\n",
       "      <td>1464.290039</td>\n",
       "      <td>880300000</td>\n",
       "      <td>-88000000.0</td>\n",
       "      <td>1474.840027</td>\n",
       "      <td>19.801133</td>\n",
       "      <td>47.142581</td>\n",
       "      <td>1465.424747</td>\n",
       "      <td>1454.433998</td>\n",
       "      <td>1438.379212</td>\n",
       "      <td>-39.726409</td>\n",
       "      <td>17.118144</td>\n",
       "      <td>21.900024</td>\n",
       "      <td>-0.720106</td>\n",
       "      <td>46.880044</td>\n",
       "      <td>-67.459505</td>\n",
       "      <td>8.083198</td>\n",
       "      <td>-1.886575</td>\n",
       "      <td>9.969773</td>\n",
       "      <td>4.171138</td>\n",
       "      <td>4.780815</td>\n",
       "      <td>29.237241</td>\n",
       "      <td>40.938830</td>\n",
       "      <td>52.128401</td>\n",
       "      <td>59.917642</td>\n",
       "      <td>0</td>\n",
       "      <td>7</td>\n",
       "      <td>2000</td>\n",
       "      <td>24</td>\n",
       "      <td>1.115800e+09</td>\n",
       "      <td>1.022700e+09</td>\n",
       "      <td>9.060000e+08</td>\n",
       "      <td>9.683000e+08</td>\n",
       "      <td>-94000000.0</td>\n",
       "      <td>13100000.0</td>\n",
       "      <td>-54600000.0</td>\n",
       "      <td>-96300000.0</td>\n",
       "      <td>9.694000e+08</td>\n",
       "      <td>89100000.0</td>\n",
       "      <td>1</td>\n",
       "      <td>NaN</td>\n",
       "    </tr>\n",
       "    <tr>\n",
       "      <th>2000-07-25</th>\n",
       "      <td>1464.290039</td>\n",
       "      <td>1476.229980</td>\n",
       "      <td>1464.290039</td>\n",
       "      <td>1474.469971</td>\n",
       "      <td>1474.469971</td>\n",
       "      <td>969400000</td>\n",
       "      <td>89100000.0</td>\n",
       "      <td>1470.260010</td>\n",
       "      <td>19.309754</td>\n",
       "      <td>50.250806</td>\n",
       "      <td>1467.835995</td>\n",
       "      <td>1454.265872</td>\n",
       "      <td>1438.915283</td>\n",
       "      <td>-48.873201</td>\n",
       "      <td>10.774090</td>\n",
       "      <td>19.869995</td>\n",
       "      <td>0.852595</td>\n",
       "      <td>52.909972</td>\n",
       "      <td>-55.105501</td>\n",
       "      <td>6.864607</td>\n",
       "      <td>-2.484132</td>\n",
       "      <td>9.348739</td>\n",
       "      <td>3.910413</td>\n",
       "      <td>4.481981</td>\n",
       "      <td>15.732381</td>\n",
       "      <td>28.768527</td>\n",
       "      <td>42.982648</td>\n",
       "      <td>51.905912</td>\n",
       "      <td>1</td>\n",
       "      <td>7</td>\n",
       "      <td>2000</td>\n",
       "      <td>25</td>\n",
       "      <td>1.073700e+09</td>\n",
       "      <td>8.476000e+08</td>\n",
       "      <td>9.083000e+08</td>\n",
       "      <td>8.803000e+08</td>\n",
       "      <td>-42100000.0</td>\n",
       "      <td>-175100000.0</td>\n",
       "      <td>2300000.0</td>\n",
       "      <td>-88000000.0</td>\n",
       "      <td>1.235800e+09</td>\n",
       "      <td>266400000.0</td>\n",
       "      <td>1</td>\n",
       "      <td>NaN</td>\n",
       "    </tr>\n",
       "    <tr>\n",
       "      <th>2000-07-26</th>\n",
       "      <td>1474.469971</td>\n",
       "      <td>1474.469971</td>\n",
       "      <td>1452.420044</td>\n",
       "      <td>1452.420044</td>\n",
       "      <td>1452.420044</td>\n",
       "      <td>1235800000</td>\n",
       "      <td>266400000.0</td>\n",
       "      <td>1463.445007</td>\n",
       "      <td>19.481033</td>\n",
       "      <td>44.189423</td>\n",
       "      <td>1468.585248</td>\n",
       "      <td>1453.688873</td>\n",
       "      <td>1439.274641</td>\n",
       "      <td>-103.752837</td>\n",
       "      <td>5.949411</td>\n",
       "      <td>-17.119995</td>\n",
       "      <td>-1.000000</td>\n",
       "      <td>46.566125</td>\n",
       "      <td>-83.461929</td>\n",
       "      <td>4.072673</td>\n",
       "      <td>-4.220853</td>\n",
       "      <td>8.293526</td>\n",
       "      <td>3.665986</td>\n",
       "      <td>4.943780</td>\n",
       "      <td>6.307630</td>\n",
       "      <td>17.092418</td>\n",
       "      <td>25.565834</td>\n",
       "      <td>40.225628</td>\n",
       "      <td>2</td>\n",
       "      <td>7</td>\n",
       "      <td>2000</td>\n",
       "      <td>26</td>\n",
       "      <td>1.117300e+09</td>\n",
       "      <td>8.890000e+08</td>\n",
       "      <td>9.094000e+08</td>\n",
       "      <td>9.694000e+08</td>\n",
       "      <td>43600000.0</td>\n",
       "      <td>41400000.0</td>\n",
       "      <td>1100000.0</td>\n",
       "      <td>89100000.0</td>\n",
       "      <td>1.156400e+09</td>\n",
       "      <td>-79400000.0</td>\n",
       "      <td>0</td>\n",
       "      <td>NaN</td>\n",
       "    </tr>\n",
       "    <tr>\n",
       "      <th>2000-07-27</th>\n",
       "      <td>1452.420044</td>\n",
       "      <td>1464.910034</td>\n",
       "      <td>1445.329956</td>\n",
       "      <td>1449.619995</td>\n",
       "      <td>1449.619995</td>\n",
       "      <td>1156400000</td>\n",
       "      <td>-79400000.0</td>\n",
       "      <td>1455.119995</td>\n",
       "      <td>19.487224</td>\n",
       "      <td>43.472315</td>\n",
       "      <td>1469.310748</td>\n",
       "      <td>1452.984499</td>\n",
       "      <td>1439.604427</td>\n",
       "      <td>-135.162964</td>\n",
       "      <td>-1.092531</td>\n",
       "      <td>3.390015</td>\n",
       "      <td>-0.143005</td>\n",
       "      <td>40.150292</td>\n",
       "      <td>-87.062820</td>\n",
       "      <td>1.615483</td>\n",
       "      <td>-5.342435</td>\n",
       "      <td>6.957918</td>\n",
       "      <td>3.436840</td>\n",
       "      <td>5.077937</td>\n",
       "      <td>6.307630</td>\n",
       "      <td>9.449214</td>\n",
       "      <td>16.951238</td>\n",
       "      <td>28.499907</td>\n",
       "      <td>3</td>\n",
       "      <td>7</td>\n",
       "      <td>2000</td>\n",
       "      <td>27</td>\n",
       "      <td>1.129500e+09</td>\n",
       "      <td>1.042500e+09</td>\n",
       "      <td>1.064600e+09</td>\n",
       "      <td>1.235800e+09</td>\n",
       "      <td>12200000.0</td>\n",
       "      <td>153500000.0</td>\n",
       "      <td>155200000.0</td>\n",
       "      <td>266400000.0</td>\n",
       "      <td>9.800000e+08</td>\n",
       "      <td>-176400000.0</td>\n",
       "      <td>0</td>\n",
       "      <td>NaN</td>\n",
       "    </tr>\n",
       "  </tbody>\n",
       "</table>\n",
       "</div>"
      ],
      "text/plain": [
       "                   Open         High          Low        Close    Adj Close  \\\n",
       "Date                                                                          \n",
       "2000-07-21  1495.569946  1495.569946  1477.910034  1480.189941  1480.189941   \n",
       "2000-07-24  1480.189941  1485.880005  1463.800049  1464.290039  1464.290039   \n",
       "2000-07-25  1464.290039  1476.229980  1464.290039  1474.469971  1474.469971   \n",
       "2000-07-26  1474.469971  1474.469971  1452.420044  1452.420044  1452.420044   \n",
       "2000-07-27  1452.420044  1464.910034  1445.329956  1449.619995  1449.619995   \n",
       "\n",
       "                Volume   VolumeDiff      Average        ATR        RSI  \\\n",
       "Date                                                                     \n",
       "2000-07-21   968300000  -96300000.0  1486.739990  19.649192  51.839964   \n",
       "2000-07-24   880300000  -88000000.0  1474.840027  19.801133  47.142581   \n",
       "2000-07-25   969400000   89100000.0  1470.260010  19.309754  50.250806   \n",
       "2000-07-26  1235800000  266400000.0  1463.445007  19.481033  44.189423   \n",
       "2000-07-27  1156400000  -79400000.0  1455.119995  19.487224  43.472315   \n",
       "\n",
       "                   MA40         MA80        MA140         CCI         AO  \\\n",
       "Date                                                                       \n",
       "2000-07-21  1463.355496  1454.986873  1438.314426   23.066220  24.521663   \n",
       "2000-07-24  1465.424747  1454.433998  1438.379212  -39.726409  17.118144   \n",
       "2000-07-25  1467.835995  1454.265872  1438.915283  -48.873201  10.774090   \n",
       "2000-07-26  1468.585248  1453.688873  1439.274641 -103.752837   5.949411   \n",
       "2000-07-27  1469.310748  1452.984499  1439.604427 -135.162964  -1.092531   \n",
       "\n",
       "                  MOM       BOP        RVI        WPR  MACD_12_26_9  \\\n",
       "Date                                                                  \n",
       "2000-07-21  25.369995 -0.870899  54.037994 -44.902686     10.557491   \n",
       "2000-07-24  21.900024 -0.720106  46.880044 -67.459505      8.083198   \n",
       "2000-07-25  19.869995  0.852595  52.909972 -55.105501      6.864607   \n",
       "2000-07-26 -17.119995 -1.000000  46.566125 -83.461929      4.072673   \n",
       "2000-07-27   3.390015 -0.143005  40.150292 -87.062820      1.615483   \n",
       "\n",
       "            MACDh_12_26_9  MACDs_12_26_9    DMP_16    DMN_16  \\\n",
       "Date                                                           \n",
       "2000-07-21       0.116074      10.441416  4.449249  4.158791   \n",
       "2000-07-24      -1.886575       9.969773  4.171138  4.780815   \n",
       "2000-07-25      -2.484132       9.348739  3.910413  4.481981   \n",
       "2000-07-26      -4.220853       8.293526  3.665986  4.943780   \n",
       "2000-07-27      -5.342435       6.957918  3.436840  5.077937   \n",
       "\n",
       "            STOCHRSIk_16_14_3_3  STOCHRSId_16_14_3_3  STOCHk_14_3_3  \\\n",
       "Date                                                                  \n",
       "2000-07-21            41.335958            53.114461      60.606687   \n",
       "2000-07-24            29.237241            40.938830      52.128401   \n",
       "2000-07-25            15.732381            28.768527      42.982648   \n",
       "2000-07-26             6.307630            17.092418      25.565834   \n",
       "2000-07-27             6.307630             9.449214      16.951238   \n",
       "\n",
       "            STOCHd_14_3_3  Dayofweek  Month  Year  Dayofmonth    Volume-Y/2  \\\n",
       "Date                                                                          \n",
       "2000-07-21      67.037290          4      7  2000          21  1.209800e+09   \n",
       "2000-07-24      59.917642          0      7  2000          24  1.115800e+09   \n",
       "2000-07-25      51.905912          1      7  2000          25  1.073700e+09   \n",
       "2000-07-26      40.225628          2      7  2000          26  1.117300e+09   \n",
       "2000-07-27      28.499907          3      7  2000          27  1.129500e+09   \n",
       "\n",
       "                Volume-M      Volume-W      Volume-D  VolumeDiff-Y/2  \\\n",
       "Date                                                                   \n",
       "2000-07-21  1.009600e+09  9.606000e+08  1.064600e+09     109100000.0   \n",
       "2000-07-24  1.022700e+09  9.060000e+08  9.683000e+08     -94000000.0   \n",
       "2000-07-25  8.476000e+08  9.083000e+08  8.803000e+08     -42100000.0   \n",
       "2000-07-26  8.890000e+08  9.094000e+08  9.694000e+08      43600000.0   \n",
       "2000-07-27  1.042500e+09  1.064600e+09  1.235800e+09      12200000.0   \n",
       "\n",
       "            VolumeDiff-M  VolumeDiff-W  VolumeDiff-D  Target_Volume  \\\n",
       "Date                                                                  \n",
       "2000-07-21   -21900000.0   -66200000.0   155200000.0   8.803000e+08   \n",
       "2000-07-24    13100000.0   -54600000.0   -96300000.0   9.694000e+08   \n",
       "2000-07-25  -175100000.0     2300000.0   -88000000.0   1.235800e+09   \n",
       "2000-07-26    41400000.0     1100000.0    89100000.0   1.156400e+09   \n",
       "2000-07-27   153500000.0   155200000.0   266400000.0   9.800000e+08   \n",
       "\n",
       "            Target_VolumeDiff  Target_VolumeClass  prediction  \n",
       "Date                                                           \n",
       "2000-07-21        -88000000.0                   0         NaN  \n",
       "2000-07-24         89100000.0                   1         NaN  \n",
       "2000-07-25        266400000.0                   1         NaN  \n",
       "2000-07-26        -79400000.0                   0         NaN  \n",
       "2000-07-27       -176400000.0                   0         NaN  "
      ]
     },
     "execution_count": 34,
     "metadata": {},
     "output_type": "execute_result"
    }
   ],
   "source": [
    "# CHECK IF THE VALUES ARE REASONABLE\n",
    "df.head()"
   ]
  },
  {
   "cell_type": "markdown",
   "metadata": {
    "tags": []
   },
   "source": [
    "## MODEL 1 - VOLUME"
   ]
  },
  {
   "cell_type": "markdown",
   "metadata": {},
   "source": [
    "### TRAIN/TEST SPLIT\n",
    "* Make test and train split\n",
    "* TODO: Try to experiment with train-valdiate-test, but k-fold cross validation is probably better"
   ]
  },
  {
   "cell_type": "code",
   "execution_count": 17,
   "metadata": {},
   "outputs": [
    {
     "data": {
      "image/png": "[encoded data removed]",
      "text/plain": [
       "<Figure size 1440x360 with 1 Axes>"
      ]
     },
     "metadata": {
      "needs_background": "light"
     },
     "output_type": "display_data"
    }
   ],
   "source": [
    "train = df.loc[df.index < '01-01-2017'].copy()\n",
    "test = df.loc[df.index >= '01-01-2017'].copy()\n",
    "\n",
    "fig, ax = plt.subplots(figsize=(20, 5))\n",
    "train.plot(ax=ax, y='Volume',label='Training Set',title='Train - Test')\n",
    "test.plot(ax=ax, y='Volume', label='Test Set')\n",
    "plt.savefig(\"Train-Test Split.pdf\")"
   ]
  },
  {
   "cell_type": "markdown",
   "metadata": {},
   "source": [
    "### TRAINING\n",
    "* Features: The attributes model is using as in input\n",
    "* Target variables are the ones we predict\n",
    "* Crucial to remove all Target values, as it already includes future data"
   ]
  },
  {
   "cell_type": "code",
   "execution_count": 83,
   "metadata": {
    "papermill": {
     "duration": 26.75173,
     "end_time": "2022-07-05T14:50:13.612588",
     "exception": false,
     "start_time": "2022-07-05T14:49:46.860858",
     "status": "completed"
    },
    "tags": []
   },
   "outputs": [
    {
     "name": "stdout",
     "output_type": "stream",
     "text": [
      "['Open', 'High', 'Low', 'Close', 'Adj Close', 'Volume', 'VolumeDiff', 'Average', 'ATR', 'RSI', 'MA40', 'MA80', 'MA140', 'CCI', 'AO', 'MOM', 'BOP', 'RVI', 'WPR', 'MACD_12_26_9', 'MACDh_12_26_9', 'MACDs_12_26_9', 'DMP_16', 'DMN_16', 'STOCHRSIk_16_14_3_3', 'STOCHRSId_16_14_3_3', 'STOCHk_14_3_3', 'STOCHd_14_3_3', 'Dayofweek', 'Month', 'Year', 'Dayofmonth', 'Volume-Y/2', 'Volume-M', 'Volume-W', 'Volume-D', 'VolumeDiff-Y/2', 'VolumeDiff-M', 'VolumeDiff-W', 'VolumeDiff-D', 'Target_Volume', 'Target_VolumeDiff', 'Target_VolumeClass', 'prediction_x', 'prediction_y', 'prediction', 'Prediction', 'Prediction_Volume']\n",
      "[16:45:04] WARNING: C:/buildkite-agent/builds/buildkite-windows-cpu-autoscaling-group-i-03de431ba26204c4d-1/xgboost/xgboost-ci-windows/src/objective/regression_obj.cu:213: reg:linear is now deprecated in favor of reg:squarederror.\n",
      "[0]\tvalidation_0-rmse:3321990407.03313\tvalidation_1-rmse:3532839892.90830\n",
      "[100]\tvalidation_0-rmse:1298725325.51959\tvalidation_1-rmse:1382642406.64396\n",
      "[200]\tvalidation_0-rmse:618546642.39637\tvalidation_1-rmse:671417001.99069\n",
      "[300]\tvalidation_0-rmse:428024459.94923\tvalidation_1-rmse:491621573.66938\n",
      "[400]\tvalidation_0-rmse:375296901.08704\tvalidation_1-rmse:463096546.86613\n",
      "[500]\tvalidation_0-rmse:350803946.07970\tvalidation_1-rmse:458589432.13856\n",
      "[600]\tvalidation_0-rmse:340047461.44791\tvalidation_1-rmse:459517481.33598\n",
      "[700]\tvalidation_0-rmse:331943042.78708\tvalidation_1-rmse:462254603.99837\n",
      "[800]\tvalidation_0-rmse:322389374.43694\tvalidation_1-rmse:466663452.75608\n",
      "[900]\tvalidation_0-rmse:313763473.76593\tvalidation_1-rmse:469602160.17527\n",
      "[999]\tvalidation_0-rmse:304825756.25645\tvalidation_1-rmse:473074072.35175\n"
     ]
    },
    {
     "data": {
      "text/html": [
       "<style>#sk-container-id-2 {color: black;background-color: white;}#sk-container-id-2 pre{padding: 0;}#sk-container-id-2 div.sk-toggleable {background-color: white;}#sk-container-id-2 label.sk-toggleable__label {cursor: pointer;display: block;width: 100%;margin-bottom: 0;padding: 0.3em;box-sizing: border-box;text-align: center;}#sk-container-id-2 label.sk-toggleable__label-arrow:before {content: \"▸\";float: left;margin-right: 0.25em;color: #696969;}#sk-container-id-2 label.sk-toggleable__label-arrow:hover:before {color: black;}#sk-container-id-2 div.sk-estimator:hover label.sk-toggleable__label-arrow:before {color: black;}#sk-container-id-2 div.sk-toggleable__content {max-height: 0;max-width: 0;overflow: hidden;text-align: left;background-color: #f0f8ff;}#sk-container-id-2 div.sk-toggleable__content pre {margin: 0.2em;color: black;border-radius: 0.25em;background-color: #f0f8ff;}#sk-container-id-2 input.sk-toggleable__control:checked~div.sk-toggleable__content {max-height: 200px;max-width: 100%;overflow: auto;}#sk-container-id-2 input.sk-toggleable__control:checked~label.sk-toggleable__label-arrow:before {content: \"▾\";}#sk-container-id-2 div.sk-estimator input.sk-toggleable__control:checked~label.sk-toggleable__label {background-color: #d4ebff;}#sk-container-id-2 div.sk-label input.sk-toggleable__control:checked~label.sk-toggleable__label {background-color: #d4ebff;}#sk-container-id-2 input.sk-hidden--visually {border: 0;clip: rect(1px 1px 1px 1px);clip: rect(1px, 1px, 1px, 1px);height: 1px;margin: -1px;overflow: hidden;padding: 0;position: absolute;width: 1px;}#sk-container-id-2 div.sk-estimator {font-family: monospace;background-color: #f0f8ff;border: 1px dotted black;border-radius: 0.25em;box-sizing: border-box;margin-bottom: 0.5em;}#sk-container-id-2 div.sk-estimator:hover {background-color: #d4ebff;}#sk-container-id-2 div.sk-parallel-item::after {content: \"\";width: 100%;border-bottom: 1px solid gray;flex-grow: 1;}#sk-container-id-2 div.sk-label:hover label.sk-toggleable__label {background-color: #d4ebff;}#sk-container-id-2 div.sk-serial::before {content: \"\";position: absolute;border-left: 1px solid gray;box-sizing: border-box;top: 0;bottom: 0;left: 50%;z-index: 0;}#sk-container-id-2 div.sk-serial {display: flex;flex-direction: column;align-items: center;background-color: white;padding-right: 0.2em;padding-left: 0.2em;position: relative;}#sk-container-id-2 div.sk-item {position: relative;z-index: 1;}#sk-container-id-2 div.sk-parallel {display: flex;align-items: stretch;justify-content: center;background-color: white;position: relative;}#sk-container-id-2 div.sk-item::before, #sk-container-id-2 div.sk-parallel-item::before {content: \"\";position: absolute;border-left: 1px solid gray;box-sizing: border-box;top: 0;bottom: 0;left: 50%;z-index: -1;}#sk-container-id-2 div.sk-parallel-item {display: flex;flex-direction: column;z-index: 1;position: relative;background-color: white;}#sk-container-id-2 div.sk-parallel-item:first-child::after {align-self: flex-end;width: 50%;}#sk-container-id-2 div.sk-parallel-item:last-child::after {align-self: flex-start;width: 50%;}#sk-container-id-2 div.sk-parallel-item:only-child::after {width: 0;}#sk-container-id-2 div.sk-dashed-wrapped {border: 1px dashed gray;margin: 0 0.4em 0.5em 0.4em;box-sizing: border-box;padding-bottom: 0.4em;background-color: white;}#sk-container-id-2 div.sk-label label {font-family: monospace;font-weight: bold;display: inline-block;line-height: 1.2em;}#sk-container-id-2 div.sk-label-container {text-align: center;}#sk-container-id-2 div.sk-container {/* jupyter's `normalize.less` sets `[hidden] { display: none; }` but bootstrap.min.css set `[hidden] { display: none !important; }` so we also need the `!important` here to be able to override the default hidden behavior on the sphinx rendered scikit-learn.org. See: https://github.com/scikit-learn/scikit-learn/issues/21755 */display: inline-block !important;position: relative;}#sk-container-id-2 div.sk-text-repr-fallback {display: none;}</style><div id=\"sk-container-id-2\" class=\"sk-top-container\"><div class=\"sk-text-repr-fallback\"><pre>XGBRegressor(base_score=0.5, booster=&#x27;gbtree&#x27;, callbacks=None,\n",
       "             colsample_bylevel=1, colsample_bynode=1, colsample_bytree=1,\n",
       "             early_stopping_rounds=500, enable_categorical=False,\n",
       "             eval_metric=None, feature_types=None, gamma=0, gpu_id=-1,\n",
       "             grow_policy=&#x27;depthwise&#x27;, importance_type=None,\n",
       "             interaction_constraints=&#x27;&#x27;, learning_rate=0.01, max_bin=256,\n",
       "             max_cat_threshold=64, max_cat_to_onehot=4, max_delta_step=0,\n",
       "             max_depth=5, max_leaves=0, min_child_weight=1, missing=nan,\n",
       "             monotone_constraints=&#x27;()&#x27;, n_estimators=1000, n_jobs=0,\n",
       "             num_parallel_tree=1, objective=&#x27;reg:linear&#x27;, predictor=&#x27;auto&#x27;, ...)</pre><b>In a Jupyter environment, please rerun this cell to show the HTML representation or trust the notebook. <br />On GitHub, the HTML representation is unable to render, please try loading this page with nbviewer.org.</b></div><div class=\"sk-container\" hidden><div class=\"sk-item\"><div class=\"sk-estimator sk-toggleable\"><input class=\"sk-toggleable__control sk-hidden--visually\" id=\"sk-estimator-id-2\" type=\"checkbox\" checked><label for=\"sk-estimator-id-2\" class=\"sk-toggleable__label sk-toggleable__label-arrow\">XGBRegressor</label><div class=\"sk-toggleable__content\"><pre>XGBRegressor(base_score=0.5, booster=&#x27;gbtree&#x27;, callbacks=None,\n",
       "             colsample_bylevel=1, colsample_bynode=1, colsample_bytree=1,\n",
       "             early_stopping_rounds=500, enable_categorical=False,\n",
       "             eval_metric=None, feature_types=None, gamma=0, gpu_id=-1,\n",
       "             grow_policy=&#x27;depthwise&#x27;, importance_type=None,\n",
       "             interaction_constraints=&#x27;&#x27;, learning_rate=0.01, max_bin=256,\n",
       "             max_cat_threshold=64, max_cat_to_onehot=4, max_delta_step=0,\n",
       "             max_depth=5, max_leaves=0, min_child_weight=1, missing=nan,\n",
       "             monotone_constraints=&#x27;()&#x27;, n_estimators=1000, n_jobs=0,\n",
       "             num_parallel_tree=1, objective=&#x27;reg:linear&#x27;, predictor=&#x27;auto&#x27;, ...)</pre></div></div></div></div></div>"
      ],
      "text/plain": [
       "XGBRegressor(base_score=0.5, booster='gbtree', callbacks=None,\n",
       "             colsample_bylevel=1, colsample_bynode=1, colsample_bytree=1,\n",
       "             early_stopping_rounds=500, enable_categorical=False,\n",
       "             eval_metric=None, feature_types=None, gamma=0, gpu_id=-1,\n",
       "             grow_policy='depthwise', importance_type=None,\n",
       "             interaction_constraints='', learning_rate=0.01, max_bin=256,\n",
       "             max_cat_threshold=64, max_cat_to_onehot=4, max_delta_step=0,\n",
       "             max_depth=5, max_leaves=0, min_child_weight=1, missing=nan,\n",
       "             monotone_constraints='()', n_estimators=1000, n_jobs=0,\n",
       "             num_parallel_tree=1, objective='reg:linear', predictor='auto', ...)"
      ]
     },
     "execution_count": 83,
     "metadata": {},
     "output_type": "execute_result"
    }
   ],
   "source": [
    "print(df.columns.tolist())\n",
    "FEATURES = ['Open', 'High', 'Low', 'Close', 'Adj Close', 'Volume', 'VolumeDiff', 'Average', 'ATR', 'RSI', 'MA40', 'MA80', 'MA140', 'CCI', 'AO', 'MOM', 'BOP', 'RVI', 'WPR', 'MACD_12_26_9', 'MACDh_12_26_9', 'MACDs_12_26_9', 'DMP_16', 'DMN_16', 'STOCHRSIk_16_14_3_3', 'STOCHRSId_16_14_3_3', 'STOCHk_14_3_3', 'STOCHd_14_3_3', 'Dayofweek', 'Month', 'Year', 'Dayofmonth', 'Volume-Y/2', 'Volume-M', 'Volume-W', 'Volume-D', 'VolumeDiff-Y/2', 'VolumeDiff-M', 'VolumeDiff-W', 'VolumeDiff-D']\n",
    "TARGET = 'Target_Volume'\n",
    "\n",
    "X_train = train[FEATURES]\n",
    "y_train = train[TARGET]\n",
    "\n",
    "X_test = test[FEATURES]\n",
    "y_test = test[TARGET]\n",
    "\n",
    "reg = xgb.XGBRegressor(base_score=0.5, booster='gbtree',    \n",
    "                       n_estimators=1000,\n",
    "                       early_stopping_rounds=500,\n",
    "                       objective='reg:linear',\n",
    "                       max_depth=5,\n",
    "                       learning_rate=0.01)\n",
    "reg.fit(X_train, y_train,\n",
    "        eval_set=[(X_train, y_train), (X_test, y_test)],\n",
    "        verbose=100)"
   ]
  },
  {
   "cell_type": "markdown",
   "metadata": {},
   "source": [
    "### TESTING\n",
    "* Using the trained model on test data\n",
    "* Add column 'Prediction' to the dataset"
   ]
  },
  {
   "cell_type": "code",
   "execution_count": 77,
   "metadata": {},
   "outputs": [],
   "source": [
    "test['Prediction_Volume'] = reg.predict(X_test)\n",
    "df = df.merge(test[['Prediction_Volume']], how='left', left_index=True, right_index=True)"
   ]
  },
  {
   "cell_type": "markdown",
   "metadata": {
    "papermill": {
     "duration": 0.012097,
     "end_time": "2022-07-05T14:50:13.636564",
     "exception": false,
     "start_time": "2022-07-05T14:50:13.624467",
     "status": "completed"
    },
    "tags": []
   },
   "source": [
    "### FEATURE IMPORTANCE\n",
    "* Year and Volume the most important\n",
    "* Volume reasonable, since the model predicts same value as the day before\n",
    "* TODO: Why year? It does not make any sense to me..."
   ]
  },
  {
   "cell_type": "code",
   "execution_count": 26,
   "metadata": {
    "papermill": {
     "duration": 0.22845,
     "end_time": "2022-07-05T14:50:13.877111",
     "exception": false,
     "start_time": "2022-07-05T14:50:13.648661",
     "status": "completed"
    },
    "tags": []
   },
   "outputs": [
    {
     "data": {
      "text/plain": [
       "<AxesSubplot:title={'center':'Feature Importance'}>"
      ]
     },
     "execution_count": 26,
     "metadata": {},
     "output_type": "execute_result"
    },
    {
     "data": {
      "image/png": "[encoded data removed]",
      "text/plain": [
       "<Figure size 1080x864 with 1 Axes>"
      ]
     },
     "metadata": {
      "needs_background": "light"
     },
     "output_type": "display_data"
    }
   ],
   "source": [
    "fi = pd.DataFrame(data=reg.feature_importances_,index=reg.feature_names_in_,columns=['importance'])\n",
    "fi.sort_values('importance').plot(kind='barh', figsize=(15, 12),title='Feature Importance')\n",
    "plt.savefig(\"XGB Volume Feature Importance.pdf\")"
   ]
  },
  {
   "cell_type": "markdown",
   "metadata": {
    "papermill": {
     "duration": 0.012188,
     "end_time": "2022-07-05T14:50:13.901939",
     "exception": false,
     "start_time": "2022-07-05T14:50:13.889751",
     "status": "completed"
    },
    "tags": []
   },
   "source": [
    "### ANALYZE THE RESULTS\n",
    "* It looks great on the yearly graph, hurraayy!\n",
    "* When zoomed in, the model predicts the price from the previous day\n",
    "* But it does not predict the previous price only, the RMSE score is better than baseline using the previous day values"
   ]
  },
  {
   "cell_type": "code",
   "execution_count": 84,
   "metadata": {
    "papermill": {
     "duration": 3.885446,
     "end_time": "2022-07-05T14:50:17.799940",
     "exception": false,
     "start_time": "2022-07-05T14:50:13.914494",
     "status": "completed"
    },
    "tags": []
   },
   "outputs": [
    {
     "data": {
      "text/plain": [
       "date\n",
       "2018-09-20    2.296135e+09\n",
       "2017-12-14    2.263463e+09\n",
       "2018-12-20    2.143451e+09\n",
       "2018-06-21    2.081031e+09\n",
       "2017-06-15    1.944485e+09\n",
       "2018-11-21    1.872213e+09\n",
       "2018-06-14    1.849437e+09\n",
       "2017-06-22    1.837670e+09\n",
       "2018-03-15    1.828674e+09\n",
       "2017-03-16    1.689634e+09\n",
       "Name: error, dtype: float64"
      ]
     },
     "execution_count": 84,
     "metadata": {},
     "output_type": "execute_result"
    },
    {
     "data": {
      "image/png": "[encoded data removed]",
      "text/plain": [
       "<Figure size 1080x864 with 3 Axes>"
      ]
     },
     "metadata": {
      "needs_background": "light"
     },
     "output_type": "display_data"
    }
   ],
   "source": [
    "fig, axs = plt.subplots(3,1,figsize=(15, 12),constrained_layout = True)\n",
    "\n",
    "df.loc[(df.index > '01-01-2017') & (df.index < '12-31-2018')].plot(ax=axs[0],y='Target_Volume',label='Truth Data')\n",
    "df.loc[(df.index > '01-01-2017') & (df.index < '12-31-2018')].plot(ax=axs[0],y='Prediction_Volume',label='Prediction')\n",
    "axs[0].set_title('Yearly Prediction')\n",
    "\n",
    "df.loc[(df.index > '03-01-2017') & (df.index < '04-01-2017')].plot(ax=axs[1],y='Target_Volume',label='Truth Data')\n",
    "df.loc[(df.index > '03-01-2017') & (df.index < '04-01-2017')].plot(ax=axs[1],y='Prediction_Volume',label ='Prediction')\n",
    "axs[1].set_title('Weekly Prediction')\n",
    "\n",
    "df.loc[(df.index > '09-15-2018') & (df.index < '09-30-2018')].plot(ax=axs[2],y='Target_Volume',label='Truth Data')\n",
    "df.loc[(df.index > '09-15-2018') & (df.index < '09-30-2018')].plot(ax=axs[2],y='Prediction_Volume',label ='Prediction')\n",
    "axs[2].set_title('Worst Prediction')\n",
    "\n",
    "plt.savefig('XGB Predicted Volume.pdf')"
   ]
  },
  {
   "cell_type": "code",
   "execution_count": 85,
   "metadata": {},
   "outputs": [
    {
     "data": {
      "text/plain": [
       "date\n",
       "2018-09-20    2.296135e+09\n",
       "2017-12-14    2.263463e+09\n",
       "2018-12-20    2.143451e+09\n",
       "2018-06-21    2.081031e+09\n",
       "2017-06-15    1.944485e+09\n",
       "2018-11-21    1.872213e+09\n",
       "2018-06-14    1.849437e+09\n",
       "2017-06-22    1.837670e+09\n",
       "2018-03-15    1.828674e+09\n",
       "2017-03-16    1.689634e+09\n",
       "Name: error, dtype: float64"
      ]
     },
     "execution_count": 85,
     "metadata": {},
     "output_type": "execute_result"
    }
   ],
   "source": [
    "# WORST PREDICTIONS\n",
    "test['error'] = np.abs(test[TARGET] - test['Prediction_Volume'])\n",
    "test['date'] = test.index.date\n",
    "test.groupby(['date'])['error'].mean().sort_values(ascending=False).head(10)"
   ]
  },
  {
   "cell_type": "markdown",
   "metadata": {
    "papermill": {
     "duration": 0.014338,
     "end_time": "2022-07-05T14:50:18.122461",
     "exception": false,
     "start_time": "2022-07-05T14:50:18.108123",
     "status": "completed"
    },
    "tags": []
   },
   "source": [
    "## COMPARE THE RESULTS\n",
    "* Crucial to compute the Predicted volume from difference\n",
    "* Baseline model: Predicting previous day value"
   ]
  },
  {
   "cell_type": "code",
   "execution_count": 80,
   "metadata": {
    "papermill": {
     "duration": 0.026642,
     "end_time": "2022-07-05T14:50:18.164035",
     "exception": false,
     "start_time": "2022-07-05T14:50:18.137393",
     "status": "completed"
    },
    "tags": []
   },
   "outputs": [
    {
     "name": "stdout",
     "output_type": "stream",
     "text": [
      "Baseline RMSE Score: 575655527.700\n",
      "Volume RMSE Score  : 363605557.537\n"
     ]
    }
   ],
   "source": [
    "# MEAN SQUARED ERROR\n",
    "score_baseline = np.sqrt(mean_squared_error(test['Volume'], test['Target_Volume']))\n",
    "score_volume = np.sqrt(mean_squared_error(test['Volume'], test['Prediction_Volume']))\n",
    "print(f'Baseline RMSE Score: {score_baseline:0.3f}')\n",
    "print(f'Volume RMSE Score  : {score_volume:0.3f}')\n",
    "\n",
    "# WORST AND BEST PREDICTED DATS"
   ]
  },
  {
   "cell_type": "markdown",
   "metadata": {
    "tags": []
   },
   "source": [
    "## MODEL 2 - Volume Diff"
   ]
  },
  {
   "cell_type": "code",
   "execution_count": 25,
   "metadata": {
    "papermill": {
     "duration": 26.75173,
     "end_time": "2022-07-05T14:50:13.612588",
     "exception": false,
     "start_time": "2022-07-05T14:49:46.860858",
     "status": "completed"
    },
    "tags": []
   },
   "outputs": [
    {
     "ename": "KeyError",
     "evalue": "\"['MA160', 'Year_Ago', 'Half_Year_Ago', 'Month_Ago', 'TargetClass'] not in index\"",
     "output_type": "error",
     "traceback": [
      "\u001b[1;31m---------------------------------------------------------------------------\u001b[0m",
      "\u001b[1;31mKeyError\u001b[0m                                  Traceback (most recent call last)",
      "\u001b[1;32m~\\AppData\\Local\\Temp\\ipykernel_29888\\3357770090.py\u001b[0m in \u001b[0;36m<cell line: 6>\u001b[1;34m()\u001b[0m\n\u001b[0;32m      4\u001b[0m \u001b[0mTARGET\u001b[0m \u001b[1;33m=\u001b[0m \u001b[1;34m'Target'\u001b[0m\u001b[1;33m\u001b[0m\u001b[1;33m\u001b[0m\u001b[0m\n\u001b[0;32m      5\u001b[0m \u001b[1;33m\u001b[0m\u001b[0m\n\u001b[1;32m----> 6\u001b[1;33m \u001b[0mX_train\u001b[0m \u001b[1;33m=\u001b[0m \u001b[0mtrain\u001b[0m\u001b[1;33m[\u001b[0m\u001b[0mFEATURES\u001b[0m\u001b[1;33m]\u001b[0m\u001b[1;33m\u001b[0m\u001b[1;33m\u001b[0m\u001b[0m\n\u001b[0m\u001b[0;32m      7\u001b[0m \u001b[0my_train\u001b[0m \u001b[1;33m=\u001b[0m \u001b[0mtrain\u001b[0m\u001b[1;33m[\u001b[0m\u001b[0mTARGET\u001b[0m\u001b[1;33m]\u001b[0m\u001b[1;33m\u001b[0m\u001b[1;33m\u001b[0m\u001b[0m\n\u001b[0;32m      8\u001b[0m \u001b[1;33m\u001b[0m\u001b[0m\n",
      "\u001b[1;32m~\\AppData\\Roaming\\Python\\Python310\\site-packages\\pandas\\core\\frame.py\u001b[0m in \u001b[0;36m__getitem__\u001b[1;34m(self, key)\u001b[0m\n\u001b[0;32m   3509\u001b[0m             \u001b[1;32mif\u001b[0m \u001b[0mis_iterator\u001b[0m\u001b[1;33m(\u001b[0m\u001b[0mkey\u001b[0m\u001b[1;33m)\u001b[0m\u001b[1;33m:\u001b[0m\u001b[1;33m\u001b[0m\u001b[1;33m\u001b[0m\u001b[0m\n\u001b[0;32m   3510\u001b[0m                 \u001b[0mkey\u001b[0m \u001b[1;33m=\u001b[0m \u001b[0mlist\u001b[0m\u001b[1;33m(\u001b[0m\u001b[0mkey\u001b[0m\u001b[1;33m)\u001b[0m\u001b[1;33m\u001b[0m\u001b[1;33m\u001b[0m\u001b[0m\n\u001b[1;32m-> 3511\u001b[1;33m             \u001b[0mindexer\u001b[0m \u001b[1;33m=\u001b[0m \u001b[0mself\u001b[0m\u001b[1;33m.\u001b[0m\u001b[0mcolumns\u001b[0m\u001b[1;33m.\u001b[0m\u001b[0m_get_indexer_strict\u001b[0m\u001b[1;33m(\u001b[0m\u001b[0mkey\u001b[0m\u001b[1;33m,\u001b[0m \u001b[1;34m\"columns\"\u001b[0m\u001b[1;33m)\u001b[0m\u001b[1;33m[\u001b[0m\u001b[1;36m1\u001b[0m\u001b[1;33m]\u001b[0m\u001b[1;33m\u001b[0m\u001b[1;33m\u001b[0m\u001b[0m\n\u001b[0m\u001b[0;32m   3512\u001b[0m \u001b[1;33m\u001b[0m\u001b[0m\n\u001b[0;32m   3513\u001b[0m         \u001b[1;31m# take() does not accept boolean indexers\u001b[0m\u001b[1;33m\u001b[0m\u001b[1;33m\u001b[0m\u001b[0m\n",
      "\u001b[1;32m~\\AppData\\Roaming\\Python\\Python310\\site-packages\\pandas\\core\\indexes\\base.py\u001b[0m in \u001b[0;36m_get_indexer_strict\u001b[1;34m(self, key, axis_name)\u001b[0m\n\u001b[0;32m   5780\u001b[0m             \u001b[0mkeyarr\u001b[0m\u001b[1;33m,\u001b[0m \u001b[0mindexer\u001b[0m\u001b[1;33m,\u001b[0m \u001b[0mnew_indexer\u001b[0m \u001b[1;33m=\u001b[0m \u001b[0mself\u001b[0m\u001b[1;33m.\u001b[0m\u001b[0m_reindex_non_unique\u001b[0m\u001b[1;33m(\u001b[0m\u001b[0mkeyarr\u001b[0m\u001b[1;33m)\u001b[0m\u001b[1;33m\u001b[0m\u001b[1;33m\u001b[0m\u001b[0m\n\u001b[0;32m   5781\u001b[0m \u001b[1;33m\u001b[0m\u001b[0m\n\u001b[1;32m-> 5782\u001b[1;33m         \u001b[0mself\u001b[0m\u001b[1;33m.\u001b[0m\u001b[0m_raise_if_missing\u001b[0m\u001b[1;33m(\u001b[0m\u001b[0mkeyarr\u001b[0m\u001b[1;33m,\u001b[0m \u001b[0mindexer\u001b[0m\u001b[1;33m,\u001b[0m \u001b[0maxis_name\u001b[0m\u001b[1;33m)\u001b[0m\u001b[1;33m\u001b[0m\u001b[1;33m\u001b[0m\u001b[0m\n\u001b[0m\u001b[0;32m   5783\u001b[0m \u001b[1;33m\u001b[0m\u001b[0m\n\u001b[0;32m   5784\u001b[0m         \u001b[0mkeyarr\u001b[0m \u001b[1;33m=\u001b[0m \u001b[0mself\u001b[0m\u001b[1;33m.\u001b[0m\u001b[0mtake\u001b[0m\u001b[1;33m(\u001b[0m\u001b[0mindexer\u001b[0m\u001b[1;33m)\u001b[0m\u001b[1;33m\u001b[0m\u001b[1;33m\u001b[0m\u001b[0m\n",
      "\u001b[1;32m~\\AppData\\Roaming\\Python\\Python310\\site-packages\\pandas\\core\\indexes\\base.py\u001b[0m in \u001b[0;36m_raise_if_missing\u001b[1;34m(self, key, indexer, axis_name)\u001b[0m\n\u001b[0;32m   5843\u001b[0m \u001b[1;33m\u001b[0m\u001b[0m\n\u001b[0;32m   5844\u001b[0m             \u001b[0mnot_found\u001b[0m \u001b[1;33m=\u001b[0m \u001b[0mlist\u001b[0m\u001b[1;33m(\u001b[0m\u001b[0mensure_index\u001b[0m\u001b[1;33m(\u001b[0m\u001b[0mkey\u001b[0m\u001b[1;33m)\u001b[0m\u001b[1;33m[\u001b[0m\u001b[0mmissing_mask\u001b[0m\u001b[1;33m.\u001b[0m\u001b[0mnonzero\u001b[0m\u001b[1;33m(\u001b[0m\u001b[1;33m)\u001b[0m\u001b[1;33m[\u001b[0m\u001b[1;36m0\u001b[0m\u001b[1;33m]\u001b[0m\u001b[1;33m]\u001b[0m\u001b[1;33m.\u001b[0m\u001b[0munique\u001b[0m\u001b[1;33m(\u001b[0m\u001b[1;33m)\u001b[0m\u001b[1;33m)\u001b[0m\u001b[1;33m\u001b[0m\u001b[1;33m\u001b[0m\u001b[0m\n\u001b[1;32m-> 5845\u001b[1;33m             \u001b[1;32mraise\u001b[0m \u001b[0mKeyError\u001b[0m\u001b[1;33m(\u001b[0m\u001b[1;34mf\"{not_found} not in index\"\u001b[0m\u001b[1;33m)\u001b[0m\u001b[1;33m\u001b[0m\u001b[1;33m\u001b[0m\u001b[0m\n\u001b[0m\u001b[0;32m   5846\u001b[0m \u001b[1;33m\u001b[0m\u001b[0m\n\u001b[0;32m   5847\u001b[0m     \u001b[1;33m@\u001b[0m\u001b[0moverload\u001b[0m\u001b[1;33m\u001b[0m\u001b[1;33m\u001b[0m\u001b[0m\n",
      "\u001b[1;31mKeyError\u001b[0m: \"['MA160', 'Year_Ago', 'Half_Year_Ago', 'Month_Ago', 'TargetClass'] not in index\""
     ]
    }
   ],
   "source": [
    "# DO NOT USE Open-High-Low-Close-Adj Close\n",
    "# Why? We know the market! Which we do not in real life\n",
    "FEATURES = ['ATR', 'RSI', 'MA40', 'MA80', 'MA160', 'CCI', 'AO', 'MOM', 'BOP', 'RVI', 'WPR', 'MACD_12_26_9', 'MACDh_12_26_9', 'MACDs_12_26_9', 'DMP_16', 'DMN_16', 'STOCHRSIk_16_14_3_3', 'STOCHRSId_16_14_3_3', 'STOCHk_14_3_3', 'STOCHd_14_3_3', 'Dayofweek', 'Month', 'Dayofmonth',  'Year_Ago', 'Half_Year_Ago', 'Month_Ago','TargetClass']\n",
    "TARGET = 'Target'\n",
    "\n",
    "X_train = train[FEATURES]\n",
    "y_train = train[TARGET]\n",
    "\n",
    "X_test = test[FEATURES]\n",
    "y_test = test[TARGET]\n",
    "\n",
    "reg = xgb.XGBRegressor(base_score=0.5, booster='gbtree',    \n",
    "                       n_estimators=1000,\n",
    "                       early_stopping_rounds=500,\n",
    "                       objective='reg:linear',\n",
    "                       max_depth=5,\n",
    "                       learning_rate=0.01)\n",
    "reg.fit(X_train, y_train,\n",
    "        eval_set=[(X_train, y_train), (X_test, y_test)],\n",
    "        verbose=100)"
   ]
  },
  {
   "cell_type": "markdown",
   "metadata": {
    "papermill": {
     "duration": 0.012097,
     "end_time": "2022-07-05T14:50:13.636564",
     "exception": false,
     "start_time": "2022-07-05T14:50:13.624467",
     "status": "completed"
    },
    "tags": []
   },
   "source": [
    "### Feature Importance"
   ]
  },
  {
   "cell_type": "code",
   "execution_count": null,
   "metadata": {
    "papermill": {
     "duration": 0.22845,
     "end_time": "2022-07-05T14:50:13.877111",
     "exception": false,
     "start_time": "2022-07-05T14:50:13.648661",
     "status": "completed"
    },
    "tags": []
   },
   "outputs": [],
   "source": [
    "fi = pd.DataFrame(data=reg.feature_importances_,\n",
    "             index=reg.feature_names_in_,\n",
    "             columns=['importance'])\n",
    "fi.sort_values('importance').plot(kind='barh', figsize=(15, 12),title='Feature Importance')"
   ]
  },
  {
   "cell_type": "markdown",
   "metadata": {
    "papermill": {
     "duration": 0.012188,
     "end_time": "2022-07-05T14:50:13.901939",
     "exception": false,
     "start_time": "2022-07-05T14:50:13.889751",
     "status": "completed"
    },
    "tags": []
   },
   "source": [
    "### Forecast on Test"
   ]
  },
  {
   "cell_type": "code",
   "execution_count": null,
   "metadata": {
    "papermill": {
     "duration": 3.885446,
     "end_time": "2022-07-05T14:50:17.799940",
     "exception": false,
     "start_time": "2022-07-05T14:50:13.914494",
     "status": "completed"
    },
    "tags": []
   },
   "outputs": [],
   "source": [
    "test['prediction'] = reg.predict(X_test)\n",
    "df = df.merge(test[['prediction']], how='left', left_index=True, right_index=True)\n",
    "ax = df[['Volume']].plot(figsize=(15, 5))\n",
    "df['prediction'].plot(ax=ax, style='.')\n",
    "plt.legend(['Truth Data', 'Predictions'])\n",
    "ax.set_title('Raw Dat and Prediction')\n",
    " "
   ]
  },
  {
   "cell_type": "code",
   "execution_count": null,
   "metadata": {
    "papermill": {
     "duration": 0.279996,
     "end_time": "2022-07-05T14:50:18.093473",
     "exception": false,
     "start_time": "2022-07-05T14:50:17.813477",
     "status": "completed"
    },
    "tags": []
   },
   "outputs": [],
   "source": [
    "ax = df.loc[(df.index > '01-01-2017') & (df.index < '12-31-2018')]['Volume'] \\\n",
    "    .plot(figsize=(15, 5), title='Predicted Volume')\n",
    "df.loc[(df.index > '01-01-2017') & (df.index < '12-31-2018')]['prediction'] \\\n",
    "    .plot()\n",
    "plt.legend(['Truth Data','Prediction'])\n",
    "plt.savefig('Predicted Volume.pdf')"
   ]
  },
  {
   "cell_type": "markdown",
   "metadata": {
    "papermill": {
     "duration": 0.014338,
     "end_time": "2022-07-05T14:50:18.122461",
     "exception": false,
     "start_time": "2022-07-05T14:50:18.108123",
     "status": "completed"
    },
    "tags": []
   },
   "source": [
    "### Score (RMSE)"
   ]
  },
  {
   "cell_type": "code",
   "execution_count": null,
   "metadata": {
    "papermill": {
     "duration": 0.026642,
     "end_time": "2022-07-05T14:50:18.164035",
     "exception": false,
     "start_time": "2022-07-05T14:50:18.137393",
     "status": "completed"
    },
    "tags": []
   },
   "outputs": [],
   "source": [
    "score = np.sqrt(mean_squared_error(test['Volume'], test['prediction']))\n",
    "print(f'RMSE Score on Test set: {score:0.3f}')"
   ]
  },
  {
   "cell_type": "markdown",
   "metadata": {
    "papermill": {
     "duration": 0.014983,
     "end_time": "2022-07-05T14:50:18.194478",
     "exception": false,
     "start_time": "2022-07-05T14:50:18.179495",
     "status": "completed"
    },
    "tags": []
   },
   "source": [
    "### Calculate Error\n",
    "- Look at the worst and best predicted days"
   ]
  },
  {
   "cell_type": "code",
   "execution_count": null,
   "metadata": {
    "papermill": {
     "duration": 0.06133,
     "end_time": "2022-07-05T14:50:18.271408",
     "exception": false,
     "start_time": "2022-07-05T14:50:18.210078",
     "status": "completed"
    },
    "tags": []
   },
   "outputs": [],
   "source": [
    "test['error'] = np.abs(test[TARGET] - test['prediction'])\n",
    "test['date'] = test.index.date\n",
    "test.groupby(['date'])['error'].mean().sort_values(ascending=False).head(10)"
   ]
  },
  {
   "cell_type": "markdown",
   "metadata": {
    "papermill": {
     "duration": 0.015442,
     "end_time": "2022-07-05T14:50:18.302044",
     "exception": false,
     "start_time": "2022-07-05T14:50:18.286602",
     "status": "completed"
    },
    "tags": []
   },
   "source": [
    "## K-FOLD CROSS VALDIATION\n",
    "* Use the best model and run it using k-fold cross-validation\n",
    "* TODO: Check which results are better"
   ]
  },
  {
   "cell_type": "code",
   "execution_count": null,
   "metadata": {
    "papermill": {
     "duration": 5.604195,
     "end_time": "2022-08-01T21:29:51.777985",
     "exception": false,
     "start_time": "2022-08-01T21:29:46.173790",
     "status": "completed"
    },
    "tags": []
   },
   "outputs": [],
   "source": [
    "print(df.isna().sum())\n",
    "df.shape"
   ]
  },
  {
   "cell_type": "code",
   "execution_count": null,
   "metadata": {
    "papermill": {
     "duration": 0.032356,
     "end_time": "2022-08-01T21:29:39.149069",
     "exception": false,
     "start_time": "2022-08-01T21:29:39.116713",
     "status": "completed"
    },
    "tags": []
   },
   "outputs": [],
   "source": [
    "from sklearn.model_selection import TimeSeriesSplit\n",
    "\n",
    "tss = TimeSeriesSplit(n_splits=10, test_size=183) #HALF OF THE YEAR\n",
    "df = df.sort_index()"
   ]
  },
  {
   "cell_type": "code",
   "execution_count": null,
   "metadata": {
    "papermill": {
     "duration": 6.678505,
     "end_time": "2022-08-01T21:29:45.840063",
     "exception": false,
     "start_time": "2022-08-01T21:29:39.161558",
     "status": "completed"
    },
    "tags": []
   },
   "outputs": [],
   "source": [
    "fig, axs = plt.subplots(10, 1, figsize=(15, 15), sharex=True)\n",
    "\n",
    "fold = 0\n",
    "for train_idx, val_idx in tss.split(df):\n",
    "    train = df.iloc[train_idx]\n",
    "    test = df.iloc[val_idx]\n",
    "    train['Volume'].plot(ax=axs[fold],\n",
    "                          label='Training Set',\n",
    "                          title=f'Data Train/Test Split Fold {fold}')\n",
    "    test['Volume'].plot(ax=axs[fold],\n",
    "                         label='Test Set')\n",
    "    axs[fold].axvline(test.index.min(), color='black', ls='--')\n",
    "    fold += 1\n",
    " "
   ]
  },
  {
   "cell_type": "code",
   "execution_count": null,
   "metadata": {
    "papermill": {
     "duration": 142.316853,
     "end_time": "2022-08-01T21:32:14.140001",
     "exception": false,
     "start_time": "2022-08-01T21:29:51.823148",
     "status": "completed"
    },
    "tags": []
   },
   "outputs": [],
   "source": [
    "df = df.sort_index()\n",
    "\n",
    "\n",
    "fold = 0\n",
    "preds = []\n",
    "scores = []\n",
    "for train_idx, val_idx in tss.split(df):\n",
    "    train = df.iloc[train_idx]\n",
    "    test = df.iloc[val_idx]\n",
    "\n",
    "    train = add_dates(train)\n",
    "    test = add_dates(test)\n",
    "\n",
    "    FEATURES = ['Close', 'ATR', 'RSI', 'Dayofweek', 'Dayofmonth', 'Month']\n",
    "    TARGET = 'Volume'\n",
    "\n",
    "    X_train = train[FEATURES]\n",
    "    y_train = train[TARGET]\n",
    "\n",
    "    X_test = test[FEATURES]\n",
    "    y_test = test[TARGET]\n",
    "\n",
    "    reg = xgb.XGBRegressor(base_score=0.5, booster='gbtree',    \n",
    "                           n_estimators=1000,\n",
    "                           early_stopping_rounds=50,\n",
    "                           objective='reg:linear',\n",
    "                           max_depth=3,\n",
    "                           learning_rate=0.01)\n",
    "    reg.fit(X_train, y_train,\n",
    "            eval_set=[(X_train, y_train), (X_test, y_test)],\n",
    "            verbose=100)\n",
    "\n",
    "    y_pred = reg.predict(X_test)\n",
    "    preds.append(y_pred)\n",
    "    score = np.sqrt(mean_squared_error(y_test, y_pred))\n",
    "    scores.append(score)"
   ]
  },
  {
   "cell_type": "code",
   "execution_count": null,
   "metadata": {
    "papermill": {
     "duration": 0.027974,
     "end_time": "2022-08-01T21:32:14.188198",
     "exception": false,
     "start_time": "2022-08-01T21:32:14.160224",
     "status": "completed"
    },
    "tags": []
   },
   "outputs": [],
   "source": [
    "print(f'Score across folds {np.mean(scores):0.4f}')\n",
    "print(f'Fold scores:{scores}')"
   ]
  },
  {
   "cell_type": "markdown",
   "metadata": {
    "papermill": {
     "duration": 0.01755,
     "end_time": "2022-08-01T21:32:14.223326",
     "exception": false,
     "start_time": "2022-08-01T21:32:14.205776",
     "status": "completed"
    },
    "tags": []
   },
   "source": [
    "### Predicting the Future\n",
    "- Retraining on all data\n",
    "- To Predict the future we need an emtpy dataframe for future date ranges.\n",
    "- Run those dates through our feature creation code + lag creation"
   ]
  },
  {
   "cell_type": "code",
   "execution_count": null,
   "metadata": {
    "papermill": {
     "duration": 27.983904,
     "end_time": "2022-08-01T21:32:42.225051",
     "exception": false,
     "start_time": "2022-08-01T21:32:14.241147",
     "status": "completed"
    },
    "tags": []
   },
   "outputs": [],
   "source": [
    "# Retrain on all data\n",
    "df = add_dates(df)\n",
    "\n",
    "FEATURES = ['Close', 'ATR', 'RSI', 'Dayofweek', 'Dayofmonth', 'Month']\n",
    "TARGET = 'Volume'\n",
    "\n",
    "X_all = df[FEATURES]\n",
    "y_all = df[TARGET]\n",
    "\n",
    "reg = xgb.XGBRegressor(base_score=0.5,\n",
    "                       booster='gbtree',    \n",
    "                       n_estimators=500,\n",
    "                       objective='reg:linear',\n",
    "                       max_depth=3,\n",
    "                       learning_rate=0.01)\n",
    "reg.fit(X_all, y_all,\n",
    "        eval_set=[(X_all, y_all)],\n",
    "        verbose=100)"
   ]
  },
  {
   "cell_type": "code",
   "execution_count": null,
   "metadata": {
    "papermill": {
     "duration": 0.032536,
     "end_time": "2022-08-01T21:32:42.275601",
     "exception": false,
     "start_time": "2022-08-01T21:32:42.243065",
     "status": "completed"
    },
    "tags": []
   },
   "outputs": [],
   "source": [
    "df.index.max()"
   ]
  },
  {
   "cell_type": "code",
   "execution_count": null,
   "metadata": {
    "papermill": {
     "duration": 6.016331,
     "end_time": "2022-08-01T21:32:48.310108",
     "exception": false,
     "start_time": "2022-08-01T21:32:42.293777",
     "status": "completed"
    },
    "tags": []
   },
   "outputs": [],
   "source": [
    "# Create future dataframe\n",
    "future = pd.date_range('2018-08-03','2019-08-01', freq='1d')\n",
    "future_df = pd.DataFrame(index=future)\n",
    "future_df['isFuture'] = True\n",
    "df['isFuture'] = False\n",
    "df_and_future = pd.concat([df, future_df])\n",
    "df_and_future = add_dates(df_and_future)\n",
    "df_and_future = add_lags(df_and_future)"
   ]
  },
  {
   "cell_type": "code",
   "execution_count": null,
   "metadata": {
    "papermill": {
     "duration": 0.041077,
     "end_time": "2022-08-01T21:32:48.370043",
     "exception": false,
     "start_time": "2022-08-01T21:32:48.328966",
     "status": "completed"
    },
    "tags": []
   },
   "outputs": [],
   "source": [
    "future_w_features = df_and_future.query('isFuture').copy()"
   ]
  },
  {
   "cell_type": "markdown",
   "metadata": {
    "papermill": {
     "duration": 0.024519,
     "end_time": "2022-08-01T21:32:48.417057",
     "exception": false,
     "start_time": "2022-08-01T21:32:48.392538",
     "status": "completed"
    },
    "tags": []
   },
   "source": [
    "### Predict the future"
   ]
  },
  {
   "cell_type": "code",
   "execution_count": null,
   "metadata": {
    "papermill": {
     "duration": 0.0637,
     "end_time": "2022-08-01T21:32:48.501748",
     "exception": false,
     "start_time": "2022-08-01T21:32:48.438048",
     "status": "completed"
    },
    "tags": []
   },
   "outputs": [],
   "source": [
    "future_w_features['pred'] = reg.predict(future_w_features[FEATURES])"
   ]
  },
  {
   "cell_type": "code",
   "execution_count": null,
   "metadata": {
    "papermill": {
     "duration": 0.478984,
     "end_time": "2022-08-01T21:32:49.000788",
     "exception": false,
     "start_time": "2022-08-01T21:32:48.521804",
     "status": "completed"
    },
    "tags": []
   },
   "outputs": [],
   "source": [
    "future_w_features['pred'].plot(figsize=(10, 5),\n",
    "                               ms=1,\n",
    "                               lw=1,\n",
    "                               title='Future Predictions')\n",
    " "
   ]
  },
  {
   "cell_type": "markdown",
   "metadata": {
    "papermill": {
     "duration": 0.019116,
     "end_time": "2022-08-01T21:32:49.040109",
     "exception": false,
     "start_time": "2022-08-01T21:32:49.020993",
     "status": "completed"
    },
    "tags": []
   },
   "source": [
    "### Bonus: Saving Model For later"
   ]
  },
  {
   "cell_type": "code",
   "execution_count": null,
   "metadata": {
    "papermill": {
     "duration": 0.053651,
     "end_time": "2022-08-01T21:32:49.113432",
     "exception": false,
     "start_time": "2022-08-01T21:32:49.059781",
     "status": "completed"
    },
    "tags": []
   },
   "outputs": [],
   "source": [
    "# Save model\n",
    "reg.save_model('model.json')"
   ]
  },
  {
   "cell_type": "code",
   "execution_count": null,
   "metadata": {
    "papermill": {
     "duration": 0.568913,
     "end_time": "2022-08-01T21:32:50.526941",
     "exception": false,
     "start_time": "2022-08-01T21:32:49.958028",
     "status": "completed"
    },
    "tags": []
   },
   "outputs": [],
   "source": [
    "reg_new = xgb.XGBRegressor()\n",
    "reg_new.load_model('model.json')\n",
    "future_w_features['pred'] = reg_new.predict(future_w_features[FEATURES])\n",
    "future_w_features['pred'].plot(figsize=(10, 5),\n",
    "                               ms=1, lw=1,\n",
    "                               title='Future Predictions')"
   ]
  },
  {
   "cell_type": "markdown",
   "metadata": {},
   "source": [
    "# PROPHET\n",
    "- Prophet model expects the dataset to be named a specific way. We will rename our dataframe columns before feeding it into the model.\n",
    "    - Datetime column named: `ds`\n",
    "    - target : `y`"
   ]
  },
  {
   "cell_type": "code",
   "execution_count": null,
   "metadata": {},
   "outputs": [],
   "source": [
    "# Format data for prophet model using ds and y\n",
    "prophet_train = pjme_train.reset_index() \\\n",
    "    .rename(columns={'Datetime':'ds',\n",
    "                     'PJME_MW':'y'})"
   ]
  },
  {
   "cell_type": "code",
   "execution_count": null,
   "metadata": {},
   "outputs": [],
   "source": [
    "%%time\n",
    "model = Prophet()\n",
    "model.fit(pjme_train_prophet)"
   ]
  },
  {
   "cell_type": "code",
   "execution_count": null,
   "metadata": {},
   "outputs": [],
   "source": [
    "# Predict on test set with model\n",
    "pjme_test_prophet = pjme_test.reset_index() \\\n",
    "    .rename(columns={'Datetime':'ds',\n",
    "                     'PJME_MW':'y'})\n",
    "\n",
    "pjme_test_fcst = model.predict(pjme_test_prophet)"
   ]
  },
  {
   "cell_type": "code",
   "execution_count": null,
   "metadata": {},
   "outputs": [],
   "source": [
    "pjme_test_fcst.head()"
   ]
  },
  {
   "cell_type": "code",
   "execution_count": null,
   "metadata": {},
   "outputs": [],
   "source": [
    "fig, ax = plt.subplots(figsize=(10, 5))\n",
    "fig = model.plot(pjme_test_fcst, ax=ax)\n",
    "ax.set_title('Prophet Forecast')\n",
    " "
   ]
  },
  {
   "cell_type": "code",
   "execution_count": null,
   "metadata": {},
   "outputs": [],
   "source": [
    "fig = model.plot_components(pjme_test_fcst)\n",
    " "
   ]
  },
  {
   "cell_type": "markdown",
   "metadata": {},
   "source": [
    "## Compare Forecast to Actuals"
   ]
  },
  {
   "cell_type": "code",
   "execution_count": null,
   "metadata": {},
   "outputs": [],
   "source": [
    "# Plot the forecast with the actuals\n",
    "f, ax = plt.subplots(figsize=(15, 5))\n",
    "ax.scatter(pjme_test.index, pjme_test['PJME_MW'], color='r')\n",
    "fig = model.plot(pjme_test_fcst, ax=ax)"
   ]
  },
  {
   "cell_type": "code",
   "execution_count": null,
   "metadata": {},
   "outputs": [],
   "source": [
    "fig, ax = plt.subplots(figsize=(10, 5))\n",
    "ax.scatter(pjme_test.index, pjme_test['PJME_MW'], color='r')\n",
    "fig = model.plot(pjme_test_fcst, ax=ax)\n",
    "ax.set_xbound(lower='01-01-2015',\n",
    "              upper='02-01-2015')\n",
    "ax.set_ylim(0, 60000)\n",
    "plot = plt.suptitle('January 2015 Forecast vs Actuals')"
   ]
  },
  {
   "cell_type": "code",
   "execution_count": null,
   "metadata": {},
   "outputs": [],
   "source": [
    "# Plot the forecast with the actuals\n",
    "f, ax = plt.subplots(figsize=(15, 5))\n",
    "ax.scatter(pjme_test.index, pjme_test['PJME_MW'], color='r')\n",
    "fig = model.plot(pjme_test_fcst, ax=ax)\n",
    "ax.set_xbound(lower='01-01-2015', upper='01-08-2015')\n",
    "ax.set_ylim(0, 60000)\n",
    "ax.set_title('First Week of January Forecast vs Actuals')\n",
    " "
   ]
  },
  {
   "cell_type": "markdown",
   "metadata": {},
   "source": [
    "## Evaluate the model with Error Metrics"
   ]
  },
  {
   "cell_type": "code",
   "execution_count": null,
   "metadata": {},
   "outputs": [],
   "source": [
    "np.sqrt(mean_squared_error(y_true=pjme_test['PJME_MW'],\n",
    "                   y_pred=pjme_test_fcst['yhat']))"
   ]
  },
  {
   "cell_type": "code",
   "execution_count": null,
   "metadata": {},
   "outputs": [],
   "source": [
    "mean_absolute_error(y_true=pjme_test['PJME_MW'],\n",
    "                   y_pred=pjme_test_fcst['yhat'])"
   ]
  },
  {
   "cell_type": "code",
   "execution_count": null,
   "metadata": {},
   "outputs": [],
   "source": [
    "mean_absolute_percentage_error(y_true=pjme_test['PJME_MW'],\n",
    "                   y_pred=pjme_test_fcst['yhat'])"
   ]
  },
  {
   "cell_type": "markdown",
   "metadata": {},
   "source": [
    "## Adding Holidays\n",
    "\n",
    "Next we will see if adding holiday indicators will help the accuracy of the model. Prophet comes with a Holiday Effects parameter that can be provided to the model prior to training.\n",
    "\n",
    "We will use the built in pandas USFederalHolidayCalendar to pull the list of holidays"
   ]
  },
  {
   "cell_type": "code",
   "execution_count": null,
   "metadata": {},
   "outputs": [],
   "source": [
    "from pandas.tseries.holiday import USFederalHolidayCalendar as calendar\n",
    "\n",
    "cal = calendar()\n",
    "\n",
    "\n",
    "holidays = cal.holidays(start=pjme.index.min(),\n",
    "                        end=pjme.index.max(),\n",
    "                        return_name=True)\n",
    "holiday_df = pd.DataFrame(data=holidays,\n",
    "                          columns=['holiday'])\n",
    "holiday_df = holiday_df.reset_index().rename(columns={'index':'ds'})"
   ]
  },
  {
   "cell_type": "code",
   "execution_count": null,
   "metadata": {},
   "outputs": [],
   "source": [
    "%%time\n",
    "model_with_holidays = Prophet(holidays=holiday_df)\n",
    "model_with_holidays.fit(pjme_train_prophet)"
   ]
  },
  {
   "cell_type": "code",
   "execution_count": null,
   "metadata": {},
   "outputs": [],
   "source": [
    "# Predict on training set with model\n",
    "pjme_test_fcst_with_hols = \\\n",
    "    model_with_holidays.predict(df=pjme_test_prophet)"
   ]
  },
  {
   "cell_type": "code",
   "execution_count": null,
   "metadata": {},
   "outputs": [],
   "source": [
    "fig = model_with_holidays.plot_components(\n",
    "    pjme_test_fcst_with_hols)\n",
    " "
   ]
  },
  {
   "cell_type": "code",
   "execution_count": null,
   "metadata": {},
   "outputs": [],
   "source": [
    "fig, ax = plt.subplots(figsize=(10, 5))\n",
    "ax.scatter(pjme_test.index, pjme_test['PJME_MW'], color='r')\n",
    "fig = model.plot(pjme_test_fcst_with_hols, ax=ax)\n",
    "ax.set_xbound(lower='07-01-2015',\n",
    "              upper='07-07-2015')\n",
    "ax.set_ylim(0, 60000)\n",
    "plot = plt.suptitle('July 4 Predictions vs Actual')"
   ]
  },
  {
   "cell_type": "code",
   "execution_count": null,
   "metadata": {},
   "outputs": [],
   "source": [
    "np.sqrt(mean_squared_error(y_true=pjme_test['PJME_MW'],\n",
    "                   y_pred=pjme_test_fcst_with_hols['yhat']))"
   ]
  },
  {
   "cell_type": "code",
   "execution_count": null,
   "metadata": {},
   "outputs": [],
   "source": [
    "mean_absolute_error(y_true=pjme_test['PJME_MW'],\n",
    "                   y_pred=pjme_test_fcst_with_hols['yhat'])"
   ]
  },
  {
   "cell_type": "code",
   "execution_count": null,
   "metadata": {},
   "outputs": [],
   "source": [
    "mean_absolute_percentage_error(y_true=pjme_test['PJME_MW'],\n",
    "                   y_pred=pjme_test_fcst_with_hols['yhat'])"
   ]
  },
  {
   "cell_type": "markdown",
   "metadata": {},
   "source": [
    "## Predict into the Future\n",
    "\n",
    "We can use the built in `make_future_dataframe` method to build our future dataframe and make predictions."
   ]
  },
  {
   "cell_type": "code",
   "execution_count": null,
   "metadata": {},
   "outputs": [],
   "source": [
    "future = model.make_future_dataframe(periods=365*24, freq='h', include_history=False)\n",
    "forecast = model_with_holidays.predict(future)"
   ]
  },
  {
   "cell_type": "code",
   "execution_count": null,
   "metadata": {},
   "outputs": [],
   "source": [
    "forecast[['ds','yhat']].head()"
   ]
  },
  {
   "cell_type": "markdown",
   "metadata": {
    "jp-MarkdownHeadingCollapsed": true,
    "tags": []
   },
   "source": [
    "# MIGHT DELETE LATER"
   ]
  },
  {
   "cell_type": "markdown",
   "metadata": {},
   "source": [
    "## Model Building"
   ]
  },
  {
   "cell_type": "markdown",
   "metadata": {},
   "source": [
    "#### Rozdělení na trénovací a testovací data"
   ]
  },
  {
   "cell_type": "code",
   "execution_count": null,
   "metadata": {},
   "outputs": [],
   "source": [
    "x = data[['age', 'hypertension', 'heart_disease','bmi', 'gender_encoded', 'married_encoded','worktype_encoded','residence_encoded','smoker_encoded']]\n",
    "y = data['stroke']\n",
    "x_train, x_test, y_train, y_test = train_test_split(x, y, test_size=0.2, random_state=0)\n",
    "sc = StandardScaler() # standardization of test and train set\n",
    "x_train = sc.fit_transform(x_train)\n",
    "x_test = sc.fit_transform(x_test)\n",
    "print(\"Shape of x_train:{}\".format(x_train.shape))\n",
    "print(\"Shape of x_test:{}\".format(x_test.shape))\n",
    "print(\"Shape of y_train:{}\".format(y_train.shape))\n",
    "print(\"Shape of y_test:{}\".format(y_test.shape))"
   ]
  },
  {
   "cell_type": "markdown",
   "metadata": {
    "tags": []
   },
   "source": [
    "#### Baseline\n",
    "* the most basic algorithm, where we find whether is more probable to have or not have stroke in trainign dataset\n",
    "* in the testing dataset, that everyone has or does not have a troke based on the first point\n",
    "* useful to check whether other algorithms are working\n",
    "* in this case the moct common scenario is NO STROKE"
   ]
  },
  {
   "cell_type": "code",
   "execution_count": null,
   "metadata": {},
   "outputs": [],
   "source": [
    "# BASELINE\n",
    "y_prediction = np.zeros(len(x_test), dtype=int)\n",
    "accuracy = accuracy_score(y_test, y_prediction)"
   ]
  },
  {
   "cell_type": "markdown",
   "metadata": {},
   "source": [
    "#### KNN\n",
    "* implemented for 1-10 nearost neigbors\n",
    "* runs the algorithm 9 times in total and use the k-negbors with the best result"
   ]
  },
  {
   "cell_type": "code",
   "execution_count": null,
   "metadata": {},
   "outputs": [],
   "source": [
    "# KNN\n",
    "best_accuracy = 0\n",
    "best_k = 0\n",
    "for k in range (1,10):\n",
    "    model1 = KNeighborsClassifier(k).fit(x_train, y_train) # serach for k closest neigbors\n",
    "    y_prediction1 = model1.predict(x_test)  # predict response\n",
    "    accuracy1 = max(best_accuracy, accuracy_score(y_test, y_prediction1))\n",
    "    if accuracy1 > best_accuracy: best_k = k\n",
    "    best_accuracy = accuracy1"
   ]
  },
  {
   "cell_type": "markdown",
   "metadata": {},
   "source": [
    " #### DECISION TREE"
   ]
  },
  {
   "cell_type": "code",
   "execution_count": null,
   "metadata": {},
   "outputs": [],
   "source": [
    "# DECISION TREE\n",
    "decisiontree = DecisionTreeClassifier()  # Create models\n",
    "model2 = decisiontree.fit(x_train, y_train)\n",
    "y_prediction2 = model2.predict(x_test)  # predict response\n",
    "accuracy2 = accuracy_score(y_test, y_prediction2)"
   ]
  },
  {
   "cell_type": "markdown",
   "metadata": {},
   "source": [
    "#### SVM"
   ]
  },
  {
   "cell_type": "code",
   "execution_count": null,
   "metadata": {},
   "outputs": [],
   "source": [
    "# SVM\n",
    "svmmodel = svm.SVC(kernel='linear', probability=True)  # Linear Kernel\n",
    "model3 = svmmodel.fit(x_train, y_train)\n",
    "y_prediction3 = model3.predict(x_test)  # predict response\n",
    "accuracy3 = accuracy_score(y_test, y_prediction3)"
   ]
  },
  {
   "cell_type": "markdown",
   "metadata": {},
   "source": [
    "#### LOGISTIC REGRESSION"
   ]
  },
  {
   "cell_type": "code",
   "execution_count": null,
   "metadata": {},
   "outputs": [],
   "source": [
    "# LOGISTIC REGRESSION\n",
    "logisticregression = LogisticRegression()\n",
    "model4 = logisticregression.fit(x_train, y_train)\n",
    "y_prediction4 = model4.predict(x_test)  # predict response\n",
    "accuracy4 = accuracy_score(y_test, y_prediction4)"
   ]
  },
  {
   "cell_type": "markdown",
   "metadata": {},
   "source": [
    "## Results\n",
    "* Baseline: dummiest, other algorithms should be able to be more accure\n",
    "* KNN, Decision Tree, SVM, Logistic Regression\n",
    "\n",
    "Decision trees are working the worst in this scenario, the rest is giving as the same results as baseline, which shows how hard the task is. As the majority of results are \"no stroke\", the algorithm learns on his own that it is the best to say that everything is not a stroke."
   ]
  },
  {
   "cell_type": "markdown",
   "metadata": {},
   "source": [
    "#### Predictions table"
   ]
  },
  {
   "cell_type": "code",
   "execution_count": null,
   "metadata": {},
   "outputs": [],
   "source": [
    "report = pd.DataFrame()\n",
    "report['Actual values'] = y_test\n",
    "report['Predicted values KNN'] = y_prediction1\n",
    "report['Predicted values Decision tree'] = y_prediction2\n",
    "report['Predicted values SVM'] = y_prediction3\n",
    "report['Predicted values Logistic Regression'] = y_prediction4\n",
    "report.to_csv('predictions.csv') #save our predictions into csv file"
   ]
  },
  {
   "cell_type": "markdown",
   "metadata": {},
   "source": [
    "#### Accuracies"
   ]
  },
  {
   "cell_type": "code",
   "execution_count": null,
   "metadata": {
    "tags": []
   },
   "outputs": [],
   "source": [
    "print(\"Baseline: \",accuracy)\n",
    "print(\"KNN: \",accuracy1, \"(for \"+str(best_k)+\" closest neigbors)\")\n",
    "print(\"Decision Trees: \", accuracy2)\n",
    "print(\"SVM :\", accuracy3)\n",
    "print(\"Logistic Regression: \", accuracy4)"
   ]
  },
  {
   "cell_type": "markdown",
   "metadata": {},
   "source": [
    "#### CONFUSION MATRIX"
   ]
  },
  {
   "cell_type": "code",
   "execution_count": null,
   "metadata": {},
   "outputs": [],
   "source": [
    "ConfusionMatrix1 = confusion_matrix(y_test, y_prediction1)\n",
    "ConfusionMatrix2 = confusion_matrix(y_test, y_prediction2)\n",
    "ConfusionMatrix3 = confusion_matrix(y_test, y_prediction3)\n",
    "ConfusionMatrix4 = confusion_matrix(y_test, y_prediction4)\n",
    "\n",
    "# KNN\n",
    "plt.subplots(2, 2, figsize=(10, 7))\n",
    "plt.suptitle('Confusion Matrix')\n",
    "plt.subplot(2, 2, 1)\n",
    "ax = sns.heatmap(ConfusionMatrix1, annot=True, cmap=\"YlGnBu\")\n",
    "plt.title(\"KNN\")\n",
    "ax.set_ylabel('Actual values')\n",
    "\n",
    "# DECISION TREE\n",
    "plt.subplot(2, 2, 2)\n",
    "ax = sns.heatmap(ConfusionMatrix2, annot=True, cmap=\"YlGnBu\")\n",
    "plt.title(\"Decision Tree\")\n",
    "ax.set_ylabel('Actual values')\n",
    "\n",
    "# SVM\n",
    "plt.subplot(2, 2, 3)\n",
    "ax = sns.heatmap(ConfusionMatrix3, annot=True, cmap=\"YlGnBu\")\n",
    "plt.title(\"SVM\")\n",
    "ax.set_xlabel('Predicted values')\n",
    "ax.set_ylabel('Actual values')\n",
    "\n",
    "# LOGISTIC REGRESSION\n",
    "plt.subplot(2, 2, 4)\n",
    "ax = sns.heatmap(ConfusionMatrix4, annot=True, cmap=\"YlGnBu\")\n",
    "plt.title(\"Logistic Regression\")\n",
    "ax.set_xlabel('Predicted values')\n",
    "ax.set_ylabel('Actual values')\n",
    "plt.savefig('Confusion Matrix.pdf')"
   ]
  },
  {
   "cell_type": "markdown",
   "metadata": {},
   "source": [
    "#### ROS CURVE"
   ]
  },
  {
   "cell_type": "code",
   "execution_count": null,
   "metadata": {},
   "outputs": [],
   "source": [
    "    plt.subplots(2, 2, figsize=(10, 7))\n",
    "    plt.suptitle('ROC Curve')\n",
    "    plt.subplot(2, 2, 1)\n",
    "    train_probs1 = model1.predict_proba(x_train)\n",
    "    train_probs1 = train_probs1[:, 1]\n",
    "    fpr1_train, tpr1_train, _ = roc_curve(y_train, train_probs1)  # pos_label=1\n",
    "    test_probs1 = model1.predict_proba(x_test)\n",
    "    test_probs1 = test_probs1[:, 1]\n",
    "    fpr1_test, tpr1_test, _ = roc_curve(y_test, test_probs1)  # pos_label=1\n",
    "    plt.plot(fpr1_train, tpr1_train, marker='.', label='train')\n",
    "    plt.plot(fpr1_test, tpr1_test, marker='.', label='validation')\n",
    "    plt.title('KNN')\n",
    "    plt.ylabel('True Positive Rate')\n",
    "    plt.legend()\n",
    "\n",
    "    # ROC CURVE DECISION TREE\n",
    "    plt.subplot(2, 2, 2)\n",
    "    train_probs2 = model2.predict_proba(x_train)\n",
    "    train_probs2 = train_probs2[:, 1]\n",
    "    fpr2_train, tpr2_train, _ = roc_curve(y_train, train_probs2)  # pos_label=1\n",
    "    test_probs2 = model2.predict_proba(x_test)\n",
    "    test_probs2 = test_probs2[:, 1]\n",
    "    fpr2_test, tpr2_test, _ = roc_curve(y_test, test_probs2)  # pos_label=1\n",
    "    plt.plot(fpr2_train, tpr2_train, marker='.', label='train')\n",
    "    plt.plot(fpr2_test, tpr2_test, marker='.', label='validation')\n",
    "    plt.title('Decision Tree')\n",
    "    plt.ylabel('True Positive Rate')\n",
    "    plt.legend()\n",
    "\n",
    "    # ROC CURVE MODEL SVM\n",
    "    plt.subplot(2, 2, 3)\n",
    "    train_probs3 = model3.predict_proba(x_train)\n",
    "    train_probs3 = train_probs3[:, 1]\n",
    "    fpr3_train, tpr3_train, _ = roc_curve(y_train, train_probs3)  # pos_label=1\n",
    "    test_probs3 = model3.predict_proba(x_test)\n",
    "    test_probs3 = test_probs3[:, 1]\n",
    "    fpr3_test, tpr3_test, _ = roc_curve(y_test, test_probs3)  # pos_label=1\n",
    "    plt.plot(fpr3_train, tpr3_train, marker='.', label='train')\n",
    "    plt.plot(fpr3_test, tpr3_test, marker='.', label='validation')\n",
    "    plt.title('SVM')\n",
    "    plt.xlabel('False Positive Rate')\n",
    "    plt.ylabel('True Positive Rate')\n",
    "    plt.legend()\n",
    "\n",
    "    # ROC CURVE LOGISTIC REGRESSION\n",
    "    plt.subplot(2, 2, 4)\n",
    "    train_probs4 = model4.predict_proba(x_train)\n",
    "    train_probs4 = train_probs4[:, 1]\n",
    "    fpr4_train, tpr4_train, _ = roc_curve(y_train, train_probs4)  # pos_label=1\n",
    "    test_probs4 = model4.predict_proba(x_test)\n",
    "    test_probs4 = test_probs4[:, 1]\n",
    "    fpr4_test, tpr4_test, _ = roc_curve(y_test, test_probs4)  # pos_label=1\n",
    "    plt.plot(fpr4_train, tpr4_train, marker='.', label='train')\n",
    "    plt.plot(fpr4_test, tpr4_test, marker='.', label='validation')\n",
    "    plt.title('Logistic Regression')\n",
    "    plt.xlabel('False Positive Rate')\n",
    "    plt.ylabel('True Positive Rate')\n",
    "    plt.legend()\n",
    "    plt.savefig('ROC Curve.pdf')"
   ]
  },
  {
   "cell_type": "markdown",
   "metadata": {
    "papermill": {
     "duration": 0.01755,
     "end_time": "2022-08-01T21:32:14.223326",
     "exception": false,
     "start_time": "2022-08-01T21:32:14.205776",
     "status": "completed"
    },
    "tags": []
   },
   "source": [
    "### Predicting the Future\n",
    "- Retraining on all data\n",
    "- To Predict the future we need an emtpy dataframe for future date ranges.\n",
    "- Run those dates through our feature creation code + lag creation"
   ]
  },
  {
   "cell_type": "code",
   "execution_count": 24,
   "metadata": {
    "papermill": {
     "duration": 6.016331,
     "end_time": "2022-08-01T21:32:48.310108",
     "exception": false,
     "start_time": "2022-08-01T21:32:42.293777",
     "status": "completed"
    },
    "tags": []
   },
   "outputs": [
    {
     "data": {
      "text/plain": [
       "\"# Create future dataframe\\nfuture = pd.date_range('2017-01-01','2018-12-31', freq='1d')\\nfuture_df = pd.DataFrame(index=future,columns=df.columns)\\nfuture_df = add_dates(future_df)\\nfuture_df = add_lags(future_df)\\n#df_and_future = pd.concat([df, future_df])\\n#df_and_future = add_dates(df_and_future)\\n#df_and_future = add_lags(df_and_future)\\n#future_w_features = df_and_future.loc[df_and_future.index > '01-01-2017'].copy()\\n#future_w_features.head()\\nfuture_df['pred'] = reg.predict(future_df[FEATURES])\\nfuture_w_features['pred'].plot(figsize=(10, 5),\\n                               ms=1,\\n                               lw=1,\\n                               title='Future Predictions')\\nax = df.loc[(df.index > '01-01-2017') & (df.index < '12-31-2018')]['Volume'].plot(figsize=(15, 5), title='Predicted Volume')\\ndf.loc[(future_w_features.index > '01-01-2017') & (future_w_features.index < '12-31-2018')]['pred'].plot()\\nplt.legend(['Truth Data','Prediction'])\\nplt.savefig('Predicted Volume.pdf')\\n\""
      ]
     },
     "execution_count": 24,
     "metadata": {},
     "output_type": "execute_result"
    }
   ],
   "source": [
    "# TODO: Pokud nefunguje, vic info viz XBoost Part II\n",
    "\"\"\"# Create future dataframe\n",
    "future = pd.date_range('2017-01-01','2018-12-31', freq='1d')\n",
    "future_df = pd.DataFrame(index=future,columns=df.columns)\n",
    "future_df = add_dates(future_df)\n",
    "future_df = add_lags(future_df)\n",
    "#df_and_future = pd.concat([df, future_df])\n",
    "#df_and_future = add_dates(df_and_future)\n",
    "#df_and_future = add_lags(df_and_future)\n",
    "#future_w_features = df_and_future.loc[df_and_future.index > '01-01-2017'].copy()\n",
    "#future_w_features.head()\n",
    "future_df['pred'] = reg.predict(future_df[FEATURES])\n",
    "future_w_features['pred'].plot(figsize=(10, 5),\n",
    "                               ms=1,\n",
    "                               lw=1,\n",
    "                               title='Future Predictions')\n",
    "ax = df.loc[(df.index > '01-01-2017') & (df.index < '12-31-2018')]['Volume'].plot(figsize=(15, 5), title='Predicted Volume')\n",
    "df.loc[(future_w_features.index > '01-01-2017') & (future_w_features.index < '12-31-2018')]['pred'].plot()\n",
    "plt.legend(['Truth Data','Prediction'])\n",
    "plt.savefig('Predicted Volume.pdf')\n",
    "\"\"\""
   ]
  }
 ],
 "metadata": {
  "kernelspec": {
   "display_name": "Python 3",
   "language": "python",
   "name": "python3"
  },
  "language_info": {
   "codemirror_mode": {
    "name": "ipython",
    "version": 3
   },
   "file_extension": ".py",
   "mimetype": "text/x-python",
   "name": "python",
   "nbconvert_exporter": "python",
   "pygments_lexer": "ipython3",
   "version": "3.10.4"
  },
  "vscode": {
   "interpreter": {
    "hash": "42e8afa88e36c428c9807ce36b2eefa6d51600e1ff3371766e0572e444959d00"
   }
  }
 },
 "nbformat": 4,
 "nbformat_minor": 4
}
