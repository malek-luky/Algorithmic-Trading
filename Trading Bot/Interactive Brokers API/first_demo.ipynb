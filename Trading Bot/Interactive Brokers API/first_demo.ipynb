{
 "cells": [
  {
   "cell_type": "code",
   "execution_count": null,
   "metadata": {},
   "outputs": [],
   "source": [
    "from ibapi.client import EClient\n",
    "from ibapi.wrapper import EWrapper\n",
    "from ibapi.contract import Contract\n",
    "\n",
    "import threading\n",
    "import time\n",
    "\n",
    "class IBapi(EWrapper, EClient):\n",
    "\tdef __init__(self):\n",
    "\t\tEClient.__init__(self, self)\n",
    "\t\tself.data = [] #Initialize variable to store candle\n",
    "\n",
    "\tdef historicalData(self, reqId, bar):\n",
    "\t\tprint(f'Time: {bar.date} Close: {bar.Close}')\n",
    "\t\tself.data.append([bar.date, bar.Close])\n",
    "\t\t\n",
    "def run_loop():\n",
    "\tapp.run()\n",
    "\n",
    "app = IBapi()\n",
    "app.connect('127.0.0.1', 7497, 123)\n",
    "\n",
    "#Start the socket in a thread\n",
    "api_thread = threading.Thread(target=run_loop, daemon=True)\n",
    "api_thread.start()\n",
    "\n",
    "time.sleep(1) #Sleep interval to alLow time for connection to server\n",
    "\n",
    "#Create contract object\n",
    "eurusd_contract = Contract()\n",
    "eurusd_contract.symbol = 'EUR'\n",
    "eurusd_contract.secType = 'CASH'\n",
    "eurusd_contract.exchange = 'IDEALPRO'\n",
    "eurusd_contract.currency = 'USD'\n",
    "\n",
    "#Request historical candles\n",
    "app.reqHistoricalData(1, eurusd_contract, '', '2 D', '1 hour', 'BID', 0, 2, False, [])\n",
    "\n",
    "time.sleep(5) #sleep to alLow enough time for data to be returned\n",
    "\n",
    "#Working with Pandas DataFrames\n",
    "import pandas\n",
    "\n",
    "df = pandas.DataFrame(app.data, columns=['DateTime', 'Close'])\n",
    "df['DateTime'] = pandas.to_datetime(df['DateTime'],unit='s') \n",
    "df.to_csv('EURUSD_Hourly.csv')  \n",
    "\n",
    "print(df)\n",
    "\n",
    "\n",
    "app.disconnect()"
   ]
  }
 ],
 "metadata": {
  "kernelspec": {
   "display_name": "base",
   "language": "python",
   "name": "python3"
  },
  "language_info": {
   "codemirror_mode": {
    "name": "ipython",
    "version": 3
   },
   "file_extension": ".py",
   "mimetype": "text/x-python",
   "name": "python",
   "nbconvert_exporter": "python",
   "pygments_lexer": "ipython3",
   "version": "3.10.6 | packaged by conda-forge | (main, Aug 22 2022, 20:29:51) [MSC v.1929 64 bit (AMD64)]"
  },
  "vscode": {
   "interpreter": {
    "hash": "0c86f4a53b7c4087d445c1a2aa82e9dfcc7387f591cd6a38501e79dc77546d44"
   }
  }
 },
 "nbformat": 4,
 "nbformat_minor": 4
}
